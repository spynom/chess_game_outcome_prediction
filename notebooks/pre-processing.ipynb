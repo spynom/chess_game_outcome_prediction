{
 "cells": [
  {
   "metadata": {},
   "cell_type": "markdown",
   "source": "# Import Libraries",
   "id": "578205527598e79e"
  },
  {
   "cell_type": "code",
   "id": "initial_id",
   "metadata": {
    "collapsed": true,
    "ExecuteTime": {
     "end_time": "2024-10-07T16:18:47.559165Z",
     "start_time": "2024-10-07T16:18:47.492830Z"
    }
   },
   "source": [
    "import pandas as pd\n",
    "import numpy as np\n",
    "import chess\n",
    "import chess.pgn\n",
    "import os\n",
    "import matplotlib.pyplot as plt\n",
    "import seaborn as sns\n",
    "from gi.overrides.keysyms import target"
   ],
   "outputs": [],
   "execution_count": 1
  },
  {
   "metadata": {},
   "cell_type": "markdown",
   "source": "# Read FIle",
   "id": "9d23b320e72db22d"
  },
  {
   "metadata": {
    "ExecuteTime": {
     "end_time": "2024-10-07T05:21:52.175297Z",
     "start_time": "2024-10-07T05:21:52.172472Z"
    }
   },
   "cell_type": "code",
   "source": [
    "\n",
    "PGN=open(\"../data/PGN/lichess_elite_2013-09.pgn\",\"r\")"
   ],
   "id": "b44250a1a2faf92a",
   "outputs": [],
   "execution_count": 4
  },
  {
   "metadata": {
    "ExecuteTime": {
     "end_time": "2024-10-07T05:21:54.611004Z",
     "start_time": "2024-10-07T05:21:54.606202Z"
    }
   },
   "cell_type": "code",
   "source": "PGN",
   "id": "11ffe8110810c366",
   "outputs": [
    {
     "data": {
      "text/plain": [
       "<_io.TextIOWrapper name='../data/PGN/lichess_elite_2013-09.pgn' mode='r' encoding='UTF-8'>"
      ]
     },
     "execution_count": 5,
     "metadata": {},
     "output_type": "execute_result"
    }
   ],
   "execution_count": 5
  },
  {
   "metadata": {
    "ExecuteTime": {
     "end_time": "2024-10-07T05:22:40.830660Z",
     "start_time": "2024-10-07T05:22:40.823627Z"
    }
   },
   "cell_type": "code",
   "source": "chess.pgn.read_game(PGN)",
   "id": "4b8b66ec6aef444c",
   "outputs": [
    {
     "data": {
      "text/plain": [
       "<Game at 0x7edb21399750 ('Matetricks' vs. 'nicky', '????.??.??' at '?')>"
      ]
     },
     "execution_count": 8,
     "metadata": {},
     "output_type": "execute_result"
    }
   ],
   "execution_count": 8
  },
  {
   "metadata": {
    "ExecuteTime": {
     "end_time": "2024-10-07T05:22:53.913477Z",
     "start_time": "2024-10-07T05:22:53.908666Z"
    }
   },
   "cell_type": "code",
   "source": "first_game=chess.pgn.read_game(PGN)",
   "id": "8863229df990a40a",
   "outputs": [],
   "execution_count": 9
  },
  {
   "metadata": {
    "ExecuteTime": {
     "end_time": "2024-10-07T05:22:58.524959Z",
     "start_time": "2024-10-07T05:22:58.521105Z"
    }
   },
   "cell_type": "code",
   "source": "first_game",
   "id": "6aeff4d1115910f7",
   "outputs": [
    {
     "data": {
      "text/plain": [
       "<Game at 0x7edb2315e9b0 ('nicky' vs. 'Matetricks', '????.??.??' at '?')>"
      ]
     },
     "execution_count": 10,
     "metadata": {},
     "output_type": "execute_result"
    }
   ],
   "execution_count": 10
  },
  {
   "metadata": {
    "ExecuteTime": {
     "end_time": "2024-10-07T05:23:07.227007Z",
     "start_time": "2024-10-07T05:23:07.221172Z"
    }
   },
   "cell_type": "code",
   "source": "second_game=chess.pgn.read_game(PGN)",
   "id": "3d8bd9cf1fe820e0",
   "outputs": [],
   "execution_count": 11
  },
  {
   "metadata": {
    "ExecuteTime": {
     "end_time": "2024-10-07T05:23:11.168778Z",
     "start_time": "2024-10-07T05:23:11.164610Z"
    }
   },
   "cell_type": "code",
   "source": "second_game",
   "id": "2d6b13cbf41ff5d2",
   "outputs": [
    {
     "data": {
      "text/plain": [
       "<Game at 0x7edb2312e170 ('nicky' vs. 'Matetricks', '????.??.??' at '?')>"
      ]
     },
     "execution_count": 12,
     "metadata": {},
     "output_type": "execute_result"
    }
   ],
   "execution_count": 12
  },
  {
   "metadata": {
    "ExecuteTime": {
     "end_time": "2024-10-07T05:23:39.586326Z",
     "start_time": "2024-10-07T05:23:39.580425Z"
    }
   },
   "cell_type": "code",
   "source": "third_game=chess.pgn.read_game(PGN)",
   "id": "ea3ff012d35073f4",
   "outputs": [],
   "execution_count": 13
  },
  {
   "metadata": {
    "ExecuteTime": {
     "end_time": "2024-10-07T05:23:45.303639Z",
     "start_time": "2024-10-07T05:23:45.297002Z"
    }
   },
   "cell_type": "code",
   "source": "third_game",
   "id": "4d1f351778042f5a",
   "outputs": [
    {
     "data": {
      "text/plain": [
       "<Game at 0x7edb2135a230 ('Matetricks' vs. 'nicky', '????.??.??' at '?')>"
      ]
     },
     "execution_count": 14,
     "metadata": {},
     "output_type": "execute_result"
    }
   ],
   "execution_count": 14
  },
  {
   "metadata": {
    "ExecuteTime": {
     "end_time": "2024-10-07T05:24:46.756051Z",
     "start_time": "2024-10-07T05:24:46.751087Z"
    }
   },
   "cell_type": "code",
   "source": "third_game.headers",
   "id": "f57ac37e5f01f843",
   "outputs": [
    {
     "data": {
      "text/plain": [
       "Headers(Event='Rated Blitz game', Site='?', Date='????.??.??', Round='?', White='Matetricks', Black='nicky', Result='1-0', WhiteTitle='NM', WhiteElo='2484', BlackElo='2200', ECO='B01', Opening='Scandinavian Defense: Main Line', TimeControl='180+0', UTCDate='2013.09.25', UTCTime='00:48:37', Termination='Normal', WhiteRatingDiff='+6', BlackRatingDiff='-5')"
      ]
     },
     "execution_count": 15,
     "metadata": {},
     "output_type": "execute_result"
    }
   ],
   "execution_count": 15
  },
  {
   "metadata": {
    "ExecuteTime": {
     "end_time": "2024-10-07T05:26:47.790322Z",
     "start_time": "2024-10-07T05:26:47.786621Z"
    }
   },
   "cell_type": "code",
   "source": "third_game.headers[\"Termination\"]",
   "id": "8317df2dad67d7e8",
   "outputs": [
    {
     "data": {
      "text/plain": [
       "'Normal'"
      ]
     },
     "execution_count": 16,
     "metadata": {},
     "output_type": "execute_result"
    }
   ],
   "execution_count": 16
  },
  {
   "metadata": {
    "ExecuteTime": {
     "end_time": "2024-10-07T05:34:16.579336Z",
     "start_time": "2024-10-07T05:34:16.575695Z"
    }
   },
   "cell_type": "code",
   "source": [
    "for header in third_game.headers:\n",
    "    print(header)"
   ],
   "id": "76f6a11d5955b912",
   "outputs": [
    {
     "name": "stdout",
     "output_type": "stream",
     "text": [
      "Event\n",
      "Site\n",
      "Date\n",
      "Round\n",
      "White\n",
      "Black\n",
      "Result\n",
      "WhiteTitle\n",
      "WhiteElo\n",
      "BlackElo\n",
      "ECO\n",
      "Opening\n",
      "TimeControl\n",
      "UTCDate\n",
      "UTCTime\n",
      "Termination\n",
      "WhiteRatingDiff\n",
      "BlackRatingDiff\n"
     ]
    }
   ],
   "execution_count": 19
  },
  {
   "metadata": {},
   "cell_type": "markdown",
   "source": "# Game Headers",
   "id": "55db5e740f666299"
  },
  {
   "metadata": {
    "ExecuteTime": {
     "end_time": "2024-10-07T05:28:13.355204Z",
     "start_time": "2024-10-07T05:28:13.349284Z"
    }
   },
   "cell_type": "code",
   "source": "os.listdir(\"../data/PGN\")",
   "id": "9914ef74c6998d5e",
   "outputs": [
    {
     "data": {
      "text/plain": [
       "['lichess_elite_2013-09.pgn',\n",
       " 'lichess_elite_2013-11.pgn',\n",
       " 'lichess_elite_2014-01.pgn',\n",
       " 'lichess_elite_2014-02.pgn',\n",
       " 'lichess_elite_2014-03.pgn',\n",
       " 'lichess_elite_2014-04.pgn',\n",
       " 'lichess_elite_2014-05.pgn',\n",
       " 'lichess_elite_2014-06.pgn',\n",
       " 'lichess_elite_2014-07.pgn',\n",
       " 'lichess_elite_2014-08.pgn',\n",
       " 'lichess_elite_2014-09.pgn',\n",
       " 'lichess_elite_2014-10.pgn',\n",
       " 'lichess_elite_2014-11.pgn',\n",
       " 'lichess_elite_2014-12.pgn',\n",
       " 'lichess_elite_2015-01.pgn',\n",
       " 'lichess_elite_2015-02.pgn',\n",
       " 'lichess_elite_2015-03.pgn',\n",
       " 'lichess_elite_2015-04.pgn',\n",
       " 'lichess_elite_2015-05.pgn',\n",
       " 'lichess_elite_2015-06.pgn',\n",
       " 'lichess_elite_2015-07.pgn',\n",
       " 'lichess_elite_2015-08.pgn',\n",
       " 'lichess_elite_2015-09.pgn',\n",
       " 'lichess_elite_2015-10.pgn',\n",
       " 'lichess_elite_2015-11.pgn',\n",
       " 'lichess_elite_2015-12.pgn',\n",
       " 'lichess_elite_2016-01.pgn',\n",
       " 'lichess_elite_2016-02.pgn',\n",
       " 'lichess_elite_2016-03.pgn',\n",
       " 'lichess_elite_2016-04.pgn',\n",
       " 'lichess_elite_2016-05.pgn',\n",
       " 'lichess_elite_2016-06.pgn',\n",
       " 'lichess_elite_2016-07.pgn',\n",
       " 'lichess_elite_2016-08.pgn',\n",
       " 'lichess_elite_2016-09.pgn',\n",
       " 'lichess_elite_2016-10.pgn',\n",
       " 'lichess_elite_2016-11.pgn',\n",
       " 'lichess_elite_2016-12.pgn',\n",
       " 'lichess_elite_2017-01.pgn',\n",
       " 'lichess_elite_2017-02.pgn',\n",
       " 'lichess_elite_2017-03.pgn',\n",
       " 'lichess_elite_2017-04.pgn',\n",
       " 'lichess_elite_2017-05.pgn',\n",
       " 'lichess_elite_2017-06.pgn',\n",
       " 'lichess_elite_2017-07.pgn',\n",
       " 'lichess_elite_2017-08.pgn',\n",
       " 'lichess_elite_2017-09.pgn',\n",
       " 'lichess_elite_2017-10.pgn',\n",
       " 'lichess_elite_2017-11.pgn',\n",
       " 'lichess_elite_2017-12.pgn',\n",
       " 'lichess_elite_2018-01.pgn',\n",
       " 'lichess_elite_2018-02.pgn',\n",
       " 'lichess_elite_2018-03.pgn',\n",
       " 'lichess_elite_2018-04.pgn',\n",
       " 'lichess_elite_2018-05.pgn',\n",
       " 'lichess_elite_2018-06.pgn',\n",
       " 'lichess_elite_2018-07.pgn',\n",
       " 'lichess_elite_2018-08.pgn',\n",
       " 'lichess_elite_2018-09.pgn',\n",
       " 'lichess_elite_2018-10.pgn',\n",
       " 'lichess_elite_2018-11.pgn',\n",
       " 'lichess_elite_2018-12.pgn',\n",
       " 'lichess_elite_2019-01.pgn',\n",
       " 'lichess_elite_2019-02.pgn',\n",
       " 'lichess_elite_2019-03.pgn',\n",
       " 'lichess_elite_2019-04.pgn',\n",
       " 'lichess_elite_2019-05.pgn',\n",
       " 'lichess_elite_2019-06.pgn',\n",
       " 'lichess_elite_2019-07.pgn',\n",
       " 'lichess_elite_2019-08.pgn',\n",
       " 'lichess_elite_2019-09.pgn',\n",
       " 'lichess_elite_2019-10.pgn',\n",
       " 'lichess_elite_2019-11.pgn',\n",
       " 'lichess_elite_2019-12.pgn',\n",
       " 'lichess_elite_2020-01.pgn',\n",
       " 'lichess_elite_2020-02.pgn',\n",
       " 'lichess_elite_2020-03.pgn',\n",
       " 'lichess_elite_2020-04.pgn',\n",
       " 'lichess_elite_2020-05.pgn']"
      ]
     },
     "execution_count": 18,
     "metadata": {},
     "output_type": "execute_result"
    }
   ],
   "execution_count": 18
  },
  {
   "metadata": {
    "ExecuteTime": {
     "end_time": "2024-10-07T05:43:11.036574Z",
     "start_time": "2024-10-07T05:43:11.031624Z"
    }
   },
   "cell_type": "code",
   "source": [
    "def get_headers(pgn_path):\n",
    "    Headers={}\n",
    "    iteration_count=0\n",
    "    with open(pgn_path,\"r\") as PGN:\n",
    "        while True:\n",
    "            game=chess.pgn.read_game(PGN)\n",
    "            \n",
    "            \n",
    "            if game is None:\n",
    "                break\n",
    "            \n",
    "            for header in game.headers:\n",
    "                \n",
    "                if header in Headers:\n",
    "                    Headers[header].append(game.headers[header])\n",
    "                \n",
    "                elif header not in Headers and iteration_count:\n",
    "                    Headers[header] = ([np.nan]*iteration_count)+[game.headers[header]]\n",
    "                \n",
    "                else:\n",
    "                    Headers[header] = [game.headers[header]]\n",
    "                    \n",
    "            for header in Headers:\n",
    "                if header not in game.headers:\n",
    "                    Headers[header].append(np.nan)\n",
    "            \n",
    "            iteration_count+=1\n",
    "    \n",
    "    return pd.DataFrame(Headers)\n",
    "                \n",
    "        \n",
    "        \n",
    "    "
   ],
   "id": "235dced7aae9ad5e",
   "outputs": [],
   "execution_count": 7
  },
  {
   "metadata": {
    "ExecuteTime": {
     "end_time": "2024-10-07T05:43:13.915800Z",
     "start_time": "2024-10-07T05:43:13.880344Z"
    }
   },
   "cell_type": "code",
   "source": "get_headers(\"../data/PGN/lichess_elite_2013-09.pgn\")",
   "id": "966e363de6a3dabc",
   "outputs": [
    {
     "data": {
      "text/plain": [
       "              Event Site        Date Round       White       Black Result  \\\n",
       "0  Rated Blitz game    ?  ????.??.??     ?  Matetricks       nicky    1-0   \n",
       "1  Rated Blitz game    ?  ????.??.??     ?       nicky  Matetricks    0-1   \n",
       "2  Rated Blitz game    ?  ????.??.??     ?       nicky  Matetricks    0-1   \n",
       "3  Rated Blitz game    ?  ????.??.??     ?  Matetricks       nicky    1-0   \n",
       "4  Rated Blitz game    ?  ????.??.??     ?    geochess  Matetricks    0-1   \n",
       "5  Rated Blitz game    ?  ????.??.??     ?  Matetricks    geochess    1-0   \n",
       "6  Rated Blitz game    ?  ????.??.??     ?    geochess  Matetricks    0-1   \n",
       "7  Rated Blitz game    ?  ????.??.??     ?  Matetricks    geochess    1-0   \n",
       "8  Rated Blitz game    ?  ????.??.??     ?    geochess  Matetricks    0-1   \n",
       "9  Rated Blitz game    ?  ????.??.??     ?  Matetricks    geochess    1-0   \n",
       "\n",
       "  WhiteTitle WhiteElo BlackElo  ECO  \\\n",
       "0         NM     2471     2211  B01   \n",
       "1        NaN     2217     2464  D01   \n",
       "2        NaN     2205     2478  D01   \n",
       "3         NM     2484     2200  B01   \n",
       "4        NaN     2246     2490  A08   \n",
       "5         NM     2497     2241  B92   \n",
       "6        NaN     2236     2503  A08   \n",
       "7         NM     2509     2232  B84   \n",
       "8        NaN     2228     2515  A08   \n",
       "9         NM     2521     2224  B84   \n",
       "\n",
       "                                             Opening TimeControl     UTCDate  \\\n",
       "0                    Scandinavian Defense: Main Line       180+0  2013.09.25   \n",
       "1                             Richter-Veresov Attack       180+0  2013.09.25   \n",
       "2  Queen's Pawn Game: Veresov Attack, Two Knights...       180+0  2013.09.25   \n",
       "3                    Scandinavian Defense: Main Line       180+0  2013.09.25   \n",
       "4                               King's Indian Attack       180+0  2013.09.25   \n",
       "5  Sicilian Defense: Najdorf Variation, Opocensky...       180+0  2013.09.25   \n",
       "6                               King's Indian Attack       180+0  2013.09.25   \n",
       "7  Sicilian Defense: Scheveningen Variation, Clas...       180+0  2013.09.25   \n",
       "8                               King's Indian Attack       180+0  2013.09.25   \n",
       "9  Sicilian Defense: Scheveningen Variation, Clas...       180+0  2013.09.25   \n",
       "\n",
       "    UTCTime   Termination WhiteRatingDiff BlackRatingDiff BlackTitle  \n",
       "0  00:38:04        Normal              +7              -6        NaN  \n",
       "1  00:33:43        Normal              -6              +7         NM  \n",
       "2  00:43:09  Time forfeit              -5              +6         NM  \n",
       "3  00:48:37        Normal              +6              -5        NaN  \n",
       "4  06:15:54        Normal              -5              +7         NM  \n",
       "5  06:20:54        Normal              +6              -5        NaN  \n",
       "6  06:25:35        Normal              -4              +6         NM  \n",
       "7  06:31:04        Normal              +6              -4        NaN  \n",
       "8  06:34:48        Normal              -4              +6         NM  \n",
       "9  06:40:44        Normal              +5              -4        NaN  "
      ],
      "text/html": [
       "<div>\n",
       "<style scoped>\n",
       "    .dataframe tbody tr th:only-of-type {\n",
       "        vertical-align: middle;\n",
       "    }\n",
       "\n",
       "    .dataframe tbody tr th {\n",
       "        vertical-align: top;\n",
       "    }\n",
       "\n",
       "    .dataframe thead th {\n",
       "        text-align: right;\n",
       "    }\n",
       "</style>\n",
       "<table border=\"1\" class=\"dataframe\">\n",
       "  <thead>\n",
       "    <tr style=\"text-align: right;\">\n",
       "      <th></th>\n",
       "      <th>Event</th>\n",
       "      <th>Site</th>\n",
       "      <th>Date</th>\n",
       "      <th>Round</th>\n",
       "      <th>White</th>\n",
       "      <th>Black</th>\n",
       "      <th>Result</th>\n",
       "      <th>WhiteTitle</th>\n",
       "      <th>WhiteElo</th>\n",
       "      <th>BlackElo</th>\n",
       "      <th>ECO</th>\n",
       "      <th>Opening</th>\n",
       "      <th>TimeControl</th>\n",
       "      <th>UTCDate</th>\n",
       "      <th>UTCTime</th>\n",
       "      <th>Termination</th>\n",
       "      <th>WhiteRatingDiff</th>\n",
       "      <th>BlackRatingDiff</th>\n",
       "      <th>BlackTitle</th>\n",
       "    </tr>\n",
       "  </thead>\n",
       "  <tbody>\n",
       "    <tr>\n",
       "      <th>0</th>\n",
       "      <td>Rated Blitz game</td>\n",
       "      <td>?</td>\n",
       "      <td>????.??.??</td>\n",
       "      <td>?</td>\n",
       "      <td>Matetricks</td>\n",
       "      <td>nicky</td>\n",
       "      <td>1-0</td>\n",
       "      <td>NM</td>\n",
       "      <td>2471</td>\n",
       "      <td>2211</td>\n",
       "      <td>B01</td>\n",
       "      <td>Scandinavian Defense: Main Line</td>\n",
       "      <td>180+0</td>\n",
       "      <td>2013.09.25</td>\n",
       "      <td>00:38:04</td>\n",
       "      <td>Normal</td>\n",
       "      <td>+7</td>\n",
       "      <td>-6</td>\n",
       "      <td>NaN</td>\n",
       "    </tr>\n",
       "    <tr>\n",
       "      <th>1</th>\n",
       "      <td>Rated Blitz game</td>\n",
       "      <td>?</td>\n",
       "      <td>????.??.??</td>\n",
       "      <td>?</td>\n",
       "      <td>nicky</td>\n",
       "      <td>Matetricks</td>\n",
       "      <td>0-1</td>\n",
       "      <td>NaN</td>\n",
       "      <td>2217</td>\n",
       "      <td>2464</td>\n",
       "      <td>D01</td>\n",
       "      <td>Richter-Veresov Attack</td>\n",
       "      <td>180+0</td>\n",
       "      <td>2013.09.25</td>\n",
       "      <td>00:33:43</td>\n",
       "      <td>Normal</td>\n",
       "      <td>-6</td>\n",
       "      <td>+7</td>\n",
       "      <td>NM</td>\n",
       "    </tr>\n",
       "    <tr>\n",
       "      <th>2</th>\n",
       "      <td>Rated Blitz game</td>\n",
       "      <td>?</td>\n",
       "      <td>????.??.??</td>\n",
       "      <td>?</td>\n",
       "      <td>nicky</td>\n",
       "      <td>Matetricks</td>\n",
       "      <td>0-1</td>\n",
       "      <td>NaN</td>\n",
       "      <td>2205</td>\n",
       "      <td>2478</td>\n",
       "      <td>D01</td>\n",
       "      <td>Queen's Pawn Game: Veresov Attack, Two Knights...</td>\n",
       "      <td>180+0</td>\n",
       "      <td>2013.09.25</td>\n",
       "      <td>00:43:09</td>\n",
       "      <td>Time forfeit</td>\n",
       "      <td>-5</td>\n",
       "      <td>+6</td>\n",
       "      <td>NM</td>\n",
       "    </tr>\n",
       "    <tr>\n",
       "      <th>3</th>\n",
       "      <td>Rated Blitz game</td>\n",
       "      <td>?</td>\n",
       "      <td>????.??.??</td>\n",
       "      <td>?</td>\n",
       "      <td>Matetricks</td>\n",
       "      <td>nicky</td>\n",
       "      <td>1-0</td>\n",
       "      <td>NM</td>\n",
       "      <td>2484</td>\n",
       "      <td>2200</td>\n",
       "      <td>B01</td>\n",
       "      <td>Scandinavian Defense: Main Line</td>\n",
       "      <td>180+0</td>\n",
       "      <td>2013.09.25</td>\n",
       "      <td>00:48:37</td>\n",
       "      <td>Normal</td>\n",
       "      <td>+6</td>\n",
       "      <td>-5</td>\n",
       "      <td>NaN</td>\n",
       "    </tr>\n",
       "    <tr>\n",
       "      <th>4</th>\n",
       "      <td>Rated Blitz game</td>\n",
       "      <td>?</td>\n",
       "      <td>????.??.??</td>\n",
       "      <td>?</td>\n",
       "      <td>geochess</td>\n",
       "      <td>Matetricks</td>\n",
       "      <td>0-1</td>\n",
       "      <td>NaN</td>\n",
       "      <td>2246</td>\n",
       "      <td>2490</td>\n",
       "      <td>A08</td>\n",
       "      <td>King's Indian Attack</td>\n",
       "      <td>180+0</td>\n",
       "      <td>2013.09.25</td>\n",
       "      <td>06:15:54</td>\n",
       "      <td>Normal</td>\n",
       "      <td>-5</td>\n",
       "      <td>+7</td>\n",
       "      <td>NM</td>\n",
       "    </tr>\n",
       "    <tr>\n",
       "      <th>5</th>\n",
       "      <td>Rated Blitz game</td>\n",
       "      <td>?</td>\n",
       "      <td>????.??.??</td>\n",
       "      <td>?</td>\n",
       "      <td>Matetricks</td>\n",
       "      <td>geochess</td>\n",
       "      <td>1-0</td>\n",
       "      <td>NM</td>\n",
       "      <td>2497</td>\n",
       "      <td>2241</td>\n",
       "      <td>B92</td>\n",
       "      <td>Sicilian Defense: Najdorf Variation, Opocensky...</td>\n",
       "      <td>180+0</td>\n",
       "      <td>2013.09.25</td>\n",
       "      <td>06:20:54</td>\n",
       "      <td>Normal</td>\n",
       "      <td>+6</td>\n",
       "      <td>-5</td>\n",
       "      <td>NaN</td>\n",
       "    </tr>\n",
       "    <tr>\n",
       "      <th>6</th>\n",
       "      <td>Rated Blitz game</td>\n",
       "      <td>?</td>\n",
       "      <td>????.??.??</td>\n",
       "      <td>?</td>\n",
       "      <td>geochess</td>\n",
       "      <td>Matetricks</td>\n",
       "      <td>0-1</td>\n",
       "      <td>NaN</td>\n",
       "      <td>2236</td>\n",
       "      <td>2503</td>\n",
       "      <td>A08</td>\n",
       "      <td>King's Indian Attack</td>\n",
       "      <td>180+0</td>\n",
       "      <td>2013.09.25</td>\n",
       "      <td>06:25:35</td>\n",
       "      <td>Normal</td>\n",
       "      <td>-4</td>\n",
       "      <td>+6</td>\n",
       "      <td>NM</td>\n",
       "    </tr>\n",
       "    <tr>\n",
       "      <th>7</th>\n",
       "      <td>Rated Blitz game</td>\n",
       "      <td>?</td>\n",
       "      <td>????.??.??</td>\n",
       "      <td>?</td>\n",
       "      <td>Matetricks</td>\n",
       "      <td>geochess</td>\n",
       "      <td>1-0</td>\n",
       "      <td>NM</td>\n",
       "      <td>2509</td>\n",
       "      <td>2232</td>\n",
       "      <td>B84</td>\n",
       "      <td>Sicilian Defense: Scheveningen Variation, Clas...</td>\n",
       "      <td>180+0</td>\n",
       "      <td>2013.09.25</td>\n",
       "      <td>06:31:04</td>\n",
       "      <td>Normal</td>\n",
       "      <td>+6</td>\n",
       "      <td>-4</td>\n",
       "      <td>NaN</td>\n",
       "    </tr>\n",
       "    <tr>\n",
       "      <th>8</th>\n",
       "      <td>Rated Blitz game</td>\n",
       "      <td>?</td>\n",
       "      <td>????.??.??</td>\n",
       "      <td>?</td>\n",
       "      <td>geochess</td>\n",
       "      <td>Matetricks</td>\n",
       "      <td>0-1</td>\n",
       "      <td>NaN</td>\n",
       "      <td>2228</td>\n",
       "      <td>2515</td>\n",
       "      <td>A08</td>\n",
       "      <td>King's Indian Attack</td>\n",
       "      <td>180+0</td>\n",
       "      <td>2013.09.25</td>\n",
       "      <td>06:34:48</td>\n",
       "      <td>Normal</td>\n",
       "      <td>-4</td>\n",
       "      <td>+6</td>\n",
       "      <td>NM</td>\n",
       "    </tr>\n",
       "    <tr>\n",
       "      <th>9</th>\n",
       "      <td>Rated Blitz game</td>\n",
       "      <td>?</td>\n",
       "      <td>????.??.??</td>\n",
       "      <td>?</td>\n",
       "      <td>Matetricks</td>\n",
       "      <td>geochess</td>\n",
       "      <td>1-0</td>\n",
       "      <td>NM</td>\n",
       "      <td>2521</td>\n",
       "      <td>2224</td>\n",
       "      <td>B84</td>\n",
       "      <td>Sicilian Defense: Scheveningen Variation, Clas...</td>\n",
       "      <td>180+0</td>\n",
       "      <td>2013.09.25</td>\n",
       "      <td>06:40:44</td>\n",
       "      <td>Normal</td>\n",
       "      <td>+5</td>\n",
       "      <td>-4</td>\n",
       "      <td>NaN</td>\n",
       "    </tr>\n",
       "  </tbody>\n",
       "</table>\n",
       "</div>"
      ]
     },
     "execution_count": 8,
     "metadata": {},
     "output_type": "execute_result"
    }
   ],
   "execution_count": 8
  },
  {
   "metadata": {
    "ExecuteTime": {
     "end_time": "2024-10-07T06:00:41.517785Z",
     "start_time": "2024-10-07T06:00:41.513217Z"
    }
   },
   "cell_type": "code",
   "source": [
    "def read_all_games_header(dir_path,save_path):\n",
    "    pgn_files=os.listdir(dir_path)\n",
    "    headers_df=None\n",
    "    for num,pgn_file in enumerate(pgn_files):\n",
    "        df=get_headers(os.path.join(dir_path,pgn_file))\n",
    "        if headers_df is None:\n",
    "            headers_df=df\n",
    "            \n",
    "        else:\n",
    "            headers_df=pd.concat([headers_df,df])\n",
    "        \n",
    "        print(f\"{num+1} of {len(pgn_files)}\",f\"Shape of DataFrame {headers_df.shape}\")\n",
    "    headers_df.to_csv(save_path,index=False)\n",
    "    return headers_df\n",
    "        "
   ],
   "id": "b4b4d63a8ced532d",
   "outputs": [],
   "execution_count": 12
  },
  {
   "metadata": {
    "ExecuteTime": {
     "end_time": "2024-10-07T08:36:26.360946Z",
     "start_time": "2024-10-07T06:00:44.750368Z"
    }
   },
   "cell_type": "code",
   "source": "headers=read_all_games_header(\"../data/PGN\",\"../data/unclean/header.csv\")",
   "id": "e5ccafb415481319",
   "outputs": [
    {
     "name": "stdout",
     "output_type": "stream",
     "text": [
      "1 of 79 Shape of DataFrame (10, 19)\n",
      "2 of 79 Shape of DataFrame (14, 19)\n",
      "3 of 79 Shape of DataFrame (17, 19)\n",
      "4 of 79 Shape of DataFrame (40, 19)\n",
      "5 of 79 Shape of DataFrame (45, 19)\n",
      "6 of 79 Shape of DataFrame (52, 19)\n",
      "7 of 79 Shape of DataFrame (316, 19)\n",
      "8 of 79 Shape of DataFrame (456, 19)\n",
      "9 of 79 Shape of DataFrame (548, 19)\n",
      "10 of 79 Shape of DataFrame (686, 19)\n",
      "11 of 79 Shape of DataFrame (893, 19)\n",
      "12 of 79 Shape of DataFrame (1341, 19)\n",
      "13 of 79 Shape of DataFrame (1579, 19)\n",
      "14 of 79 Shape of DataFrame (2118, 19)\n",
      "15 of 79 Shape of DataFrame (2582, 19)\n",
      "16 of 79 Shape of DataFrame (3356, 19)\n",
      "17 of 79 Shape of DataFrame (4097, 20)\n",
      "18 of 79 Shape of DataFrame (4677, 20)\n",
      "19 of 79 Shape of DataFrame (5316, 20)\n",
      "20 of 79 Shape of DataFrame (5667, 20)\n",
      "21 of 79 Shape of DataFrame (6145, 20)\n",
      "22 of 79 Shape of DataFrame (7014, 20)\n",
      "23 of 79 Shape of DataFrame (8764, 20)\n",
      "24 of 79 Shape of DataFrame (10327, 20)\n",
      "25 of 79 Shape of DataFrame (13781, 20)\n",
      "26 of 79 Shape of DataFrame (19330, 20)\n",
      "27 of 79 Shape of DataFrame (28421, 20)\n",
      "28 of 79 Shape of DataFrame (41570, 20)\n",
      "29 of 79 Shape of DataFrame (59984, 20)\n",
      "30 of 79 Shape of DataFrame (81313, 20)\n",
      "31 of 79 Shape of DataFrame (109246, 20)\n",
      "32 of 79 Shape of DataFrame (139993, 20)\n",
      "33 of 79 Shape of DataFrame (169755, 20)\n",
      "34 of 79 Shape of DataFrame (195642, 20)\n",
      "35 of 79 Shape of DataFrame (221794, 20)\n",
      "36 of 79 Shape of DataFrame (247416, 20)\n",
      "37 of 79 Shape of DataFrame (275284, 20)\n",
      "38 of 79 Shape of DataFrame (296539, 20)\n",
      "39 of 79 Shape of DataFrame (317474, 20)\n",
      "40 of 79 Shape of DataFrame (340605, 20)\n",
      "41 of 79 Shape of DataFrame (365307, 20)\n",
      "42 of 79 Shape of DataFrame (384691, 20)\n",
      "43 of 79 Shape of DataFrame (407278, 20)\n",
      "44 of 79 Shape of DataFrame (430978, 20)\n",
      "45 of 79 Shape of DataFrame (455235, 20)\n",
      "46 of 79 Shape of DataFrame (480029, 20)\n",
      "47 of 79 Shape of DataFrame (502747, 20)\n",
      "48 of 79 Shape of DataFrame (526355, 20)\n",
      "49 of 79 Shape of DataFrame (550108, 20)\n",
      "50 of 79 Shape of DataFrame (578167, 20)\n",
      "51 of 79 Shape of DataFrame (607176, 20)\n",
      "52 of 79 Shape of DataFrame (634608, 20)\n",
      "53 of 79 Shape of DataFrame (665521, 20)\n",
      "54 of 79 Shape of DataFrame (696742, 20)\n",
      "55 of 79 Shape of DataFrame (727629, 20)\n",
      "56 of 79 Shape of DataFrame (763061, 20)\n",
      "57 of 79 Shape of DataFrame (798602, 20)\n",
      "58 of 79 Shape of DataFrame (840719, 20)\n",
      "59 of 79 Shape of DataFrame (879918, 20)\n",
      "60 of 79 Shape of DataFrame (920773, 20)\n",
      "61 of 79 Shape of DataFrame (964083, 20)\n",
      "62 of 79 Shape of DataFrame (1011001, 20)\n",
      "63 of 79 Shape of DataFrame (1061832, 20)\n",
      "64 of 79 Shape of DataFrame (1108316, 20)\n",
      "65 of 79 Shape of DataFrame (1163635, 20)\n",
      "66 of 79 Shape of DataFrame (1213061, 20)\n",
      "67 of 79 Shape of DataFrame (1271099, 20)\n",
      "68 of 79 Shape of DataFrame (1347908, 20)\n",
      "69 of 79 Shape of DataFrame (1435995, 20)\n",
      "70 of 79 Shape of DataFrame (1538662, 20)\n",
      "71 of 79 Shape of DataFrame (1650790, 20)\n",
      "72 of 79 Shape of DataFrame (1794284, 20)\n",
      "73 of 79 Shape of DataFrame (1957714, 20)\n",
      "74 of 79 Shape of DataFrame (2164639, 20)\n",
      "75 of 79 Shape of DataFrame (2412853, 20)\n",
      "76 of 79 Shape of DataFrame (2661521, 20)\n",
      "77 of 79 Shape of DataFrame (3026340, 20)\n",
      "78 of 79 Shape of DataFrame (3449358, 20)\n",
      "79 of 79 Shape of DataFrame (3819130, 20)\n"
     ]
    }
   ],
   "execution_count": 13
  },
  {
   "metadata": {
    "ExecuteTime": {
     "end_time": "2024-10-07T08:49:21.401680Z",
     "start_time": "2024-10-07T08:49:21.397622Z"
    }
   },
   "cell_type": "code",
   "source": "headers.shape",
   "id": "2b108adab40a53aa",
   "outputs": [
    {
     "data": {
      "text/plain": [
       "(3819130, 20)"
      ]
     },
     "execution_count": 28,
     "metadata": {},
     "output_type": "execute_result"
    }
   ],
   "execution_count": 28
  },
  {
   "metadata": {
    "ExecuteTime": {
     "end_time": "2024-10-07T08:42:19.708387Z",
     "start_time": "2024-10-07T08:42:19.687666Z"
    }
   },
   "cell_type": "code",
   "source": "headers",
   "id": "817a44f43c403a49",
   "outputs": [
    {
     "data": {
      "text/plain": [
       "                   Event Site        Date Round          White         Black  \\\n",
       "0       Rated Blitz game    ?  ????.??.??     ?     Matetricks         nicky   \n",
       "1       Rated Blitz game    ?  ????.??.??     ?          nicky    Matetricks   \n",
       "2       Rated Blitz game    ?  ????.??.??     ?          nicky    Matetricks   \n",
       "3       Rated Blitz game    ?  ????.??.??     ?     Matetricks         nicky   \n",
       "4       Rated Blitz game    ?  ????.??.??     ?       geochess    Matetricks   \n",
       "...                  ...  ...         ...   ...            ...           ...   \n",
       "369767  Rated Blitz game    ?  2020.05.31     -      luiso1961    Donnerhall   \n",
       "369768  Rated Blitz game    ?  2020.05.31     -      Ryan-Rhys  Phutressniak   \n",
       "369769  Rated Blitz game    ?  2020.05.31     -  MagicDreams93     zsolti_83   \n",
       "369770  Rated Blitz game    ?  2020.05.31     -  Chessbard1972      guicar16   \n",
       "369771  Rated Blitz game    ?  2020.05.31     -     MikeGScarn   HansSchmidt   \n",
       "\n",
       "         Result WhiteTitle WhiteElo BlackElo  ECO  \\\n",
       "0           1-0         NM     2471     2211  B01   \n",
       "1           0-1        NaN     2217     2464  D01   \n",
       "2           0-1        NaN     2205     2478  D01   \n",
       "3           1-0         NM     2484     2200  B01   \n",
       "4           0-1        NaN     2246     2490  A08   \n",
       "...         ...        ...      ...      ...  ...   \n",
       "369767  1/2-1/2         FM     2372     2543  D85   \n",
       "369768      1-0         FM     2468     2426  E46   \n",
       "369769      0-1        NaN     2373     2486  E46   \n",
       "369770      0-1        NaN     2345     2489  C50   \n",
       "369771      1-0        NaN     2826     2866  D90   \n",
       "\n",
       "                                                  Opening TimeControl  \\\n",
       "0                         Scandinavian Defense: Main Line       180+0   \n",
       "1                                  Richter-Veresov Attack       180+0   \n",
       "2       Queen's Pawn Game: Veresov Attack, Two Knights...       180+0   \n",
       "3                         Scandinavian Defense: Main Line       180+0   \n",
       "4                                    King's Indian Attack       180+0   \n",
       "...                                                   ...         ...   \n",
       "369767               Grünfeld Defense: Exchange Variation       180+0   \n",
       "369768          Nimzo-Indian Defense: Reshevsky Variation       180+0   \n",
       "369769          Nimzo-Indian Defense: Reshevsky Variation       180+2   \n",
       "369770                    Italian Game: Hungarian Defense       180+2   \n",
       "369771          Grünfeld Defense: Three Knights Variation       180+0   \n",
       "\n",
       "           UTCDate   UTCTime   Termination WhiteRatingDiff BlackRatingDiff  \\\n",
       "0       2013.09.25  00:38:04        Normal              +7              -6   \n",
       "1       2013.09.25  00:33:43        Normal              -6              +7   \n",
       "2       2013.09.25  00:43:09  Time forfeit              -5              +6   \n",
       "3       2013.09.25  00:48:37        Normal              +6              -5   \n",
       "4       2013.09.25  06:15:54        Normal              -5              +7   \n",
       "...            ...       ...           ...             ...             ...   \n",
       "369767  2020.05.31  23:59:30        Normal              +2              -2   \n",
       "369768  2020.05.31  23:59:35  Time forfeit              +5              -5   \n",
       "369769  2020.05.31  23:59:41        Normal              -4              +4   \n",
       "369770  2020.05.31  23:59:49        Normal              -3              +4   \n",
       "369771  2020.05.31  23:59:50  Time forfeit              +7              -6   \n",
       "\n",
       "       BlackTitle LichessId  \n",
       "0             NaN       NaN  \n",
       "1              NM       NaN  \n",
       "2              NM       NaN  \n",
       "3             NaN       NaN  \n",
       "4              NM       NaN  \n",
       "...           ...       ...  \n",
       "369767        NaN       NaN  \n",
       "369768         LM       NaN  \n",
       "369769        NaN       NaN  \n",
       "369770         CM       NaN  \n",
       "369771        NaN       NaN  \n",
       "\n",
       "[3819130 rows x 20 columns]"
      ],
      "text/html": [
       "<div>\n",
       "<style scoped>\n",
       "    .dataframe tbody tr th:only-of-type {\n",
       "        vertical-align: middle;\n",
       "    }\n",
       "\n",
       "    .dataframe tbody tr th {\n",
       "        vertical-align: top;\n",
       "    }\n",
       "\n",
       "    .dataframe thead th {\n",
       "        text-align: right;\n",
       "    }\n",
       "</style>\n",
       "<table border=\"1\" class=\"dataframe\">\n",
       "  <thead>\n",
       "    <tr style=\"text-align: right;\">\n",
       "      <th></th>\n",
       "      <th>Event</th>\n",
       "      <th>Site</th>\n",
       "      <th>Date</th>\n",
       "      <th>Round</th>\n",
       "      <th>White</th>\n",
       "      <th>Black</th>\n",
       "      <th>Result</th>\n",
       "      <th>WhiteTitle</th>\n",
       "      <th>WhiteElo</th>\n",
       "      <th>BlackElo</th>\n",
       "      <th>ECO</th>\n",
       "      <th>Opening</th>\n",
       "      <th>TimeControl</th>\n",
       "      <th>UTCDate</th>\n",
       "      <th>UTCTime</th>\n",
       "      <th>Termination</th>\n",
       "      <th>WhiteRatingDiff</th>\n",
       "      <th>BlackRatingDiff</th>\n",
       "      <th>BlackTitle</th>\n",
       "      <th>LichessId</th>\n",
       "    </tr>\n",
       "  </thead>\n",
       "  <tbody>\n",
       "    <tr>\n",
       "      <th>0</th>\n",
       "      <td>Rated Blitz game</td>\n",
       "      <td>?</td>\n",
       "      <td>????.??.??</td>\n",
       "      <td>?</td>\n",
       "      <td>Matetricks</td>\n",
       "      <td>nicky</td>\n",
       "      <td>1-0</td>\n",
       "      <td>NM</td>\n",
       "      <td>2471</td>\n",
       "      <td>2211</td>\n",
       "      <td>B01</td>\n",
       "      <td>Scandinavian Defense: Main Line</td>\n",
       "      <td>180+0</td>\n",
       "      <td>2013.09.25</td>\n",
       "      <td>00:38:04</td>\n",
       "      <td>Normal</td>\n",
       "      <td>+7</td>\n",
       "      <td>-6</td>\n",
       "      <td>NaN</td>\n",
       "      <td>NaN</td>\n",
       "    </tr>\n",
       "    <tr>\n",
       "      <th>1</th>\n",
       "      <td>Rated Blitz game</td>\n",
       "      <td>?</td>\n",
       "      <td>????.??.??</td>\n",
       "      <td>?</td>\n",
       "      <td>nicky</td>\n",
       "      <td>Matetricks</td>\n",
       "      <td>0-1</td>\n",
       "      <td>NaN</td>\n",
       "      <td>2217</td>\n",
       "      <td>2464</td>\n",
       "      <td>D01</td>\n",
       "      <td>Richter-Veresov Attack</td>\n",
       "      <td>180+0</td>\n",
       "      <td>2013.09.25</td>\n",
       "      <td>00:33:43</td>\n",
       "      <td>Normal</td>\n",
       "      <td>-6</td>\n",
       "      <td>+7</td>\n",
       "      <td>NM</td>\n",
       "      <td>NaN</td>\n",
       "    </tr>\n",
       "    <tr>\n",
       "      <th>2</th>\n",
       "      <td>Rated Blitz game</td>\n",
       "      <td>?</td>\n",
       "      <td>????.??.??</td>\n",
       "      <td>?</td>\n",
       "      <td>nicky</td>\n",
       "      <td>Matetricks</td>\n",
       "      <td>0-1</td>\n",
       "      <td>NaN</td>\n",
       "      <td>2205</td>\n",
       "      <td>2478</td>\n",
       "      <td>D01</td>\n",
       "      <td>Queen's Pawn Game: Veresov Attack, Two Knights...</td>\n",
       "      <td>180+0</td>\n",
       "      <td>2013.09.25</td>\n",
       "      <td>00:43:09</td>\n",
       "      <td>Time forfeit</td>\n",
       "      <td>-5</td>\n",
       "      <td>+6</td>\n",
       "      <td>NM</td>\n",
       "      <td>NaN</td>\n",
       "    </tr>\n",
       "    <tr>\n",
       "      <th>3</th>\n",
       "      <td>Rated Blitz game</td>\n",
       "      <td>?</td>\n",
       "      <td>????.??.??</td>\n",
       "      <td>?</td>\n",
       "      <td>Matetricks</td>\n",
       "      <td>nicky</td>\n",
       "      <td>1-0</td>\n",
       "      <td>NM</td>\n",
       "      <td>2484</td>\n",
       "      <td>2200</td>\n",
       "      <td>B01</td>\n",
       "      <td>Scandinavian Defense: Main Line</td>\n",
       "      <td>180+0</td>\n",
       "      <td>2013.09.25</td>\n",
       "      <td>00:48:37</td>\n",
       "      <td>Normal</td>\n",
       "      <td>+6</td>\n",
       "      <td>-5</td>\n",
       "      <td>NaN</td>\n",
       "      <td>NaN</td>\n",
       "    </tr>\n",
       "    <tr>\n",
       "      <th>4</th>\n",
       "      <td>Rated Blitz game</td>\n",
       "      <td>?</td>\n",
       "      <td>????.??.??</td>\n",
       "      <td>?</td>\n",
       "      <td>geochess</td>\n",
       "      <td>Matetricks</td>\n",
       "      <td>0-1</td>\n",
       "      <td>NaN</td>\n",
       "      <td>2246</td>\n",
       "      <td>2490</td>\n",
       "      <td>A08</td>\n",
       "      <td>King's Indian Attack</td>\n",
       "      <td>180+0</td>\n",
       "      <td>2013.09.25</td>\n",
       "      <td>06:15:54</td>\n",
       "      <td>Normal</td>\n",
       "      <td>-5</td>\n",
       "      <td>+7</td>\n",
       "      <td>NM</td>\n",
       "      <td>NaN</td>\n",
       "    </tr>\n",
       "    <tr>\n",
       "      <th>...</th>\n",
       "      <td>...</td>\n",
       "      <td>...</td>\n",
       "      <td>...</td>\n",
       "      <td>...</td>\n",
       "      <td>...</td>\n",
       "      <td>...</td>\n",
       "      <td>...</td>\n",
       "      <td>...</td>\n",
       "      <td>...</td>\n",
       "      <td>...</td>\n",
       "      <td>...</td>\n",
       "      <td>...</td>\n",
       "      <td>...</td>\n",
       "      <td>...</td>\n",
       "      <td>...</td>\n",
       "      <td>...</td>\n",
       "      <td>...</td>\n",
       "      <td>...</td>\n",
       "      <td>...</td>\n",
       "      <td>...</td>\n",
       "    </tr>\n",
       "    <tr>\n",
       "      <th>369767</th>\n",
       "      <td>Rated Blitz game</td>\n",
       "      <td>?</td>\n",
       "      <td>2020.05.31</td>\n",
       "      <td>-</td>\n",
       "      <td>luiso1961</td>\n",
       "      <td>Donnerhall</td>\n",
       "      <td>1/2-1/2</td>\n",
       "      <td>FM</td>\n",
       "      <td>2372</td>\n",
       "      <td>2543</td>\n",
       "      <td>D85</td>\n",
       "      <td>Grünfeld Defense: Exchange Variation</td>\n",
       "      <td>180+0</td>\n",
       "      <td>2020.05.31</td>\n",
       "      <td>23:59:30</td>\n",
       "      <td>Normal</td>\n",
       "      <td>+2</td>\n",
       "      <td>-2</td>\n",
       "      <td>NaN</td>\n",
       "      <td>NaN</td>\n",
       "    </tr>\n",
       "    <tr>\n",
       "      <th>369768</th>\n",
       "      <td>Rated Blitz game</td>\n",
       "      <td>?</td>\n",
       "      <td>2020.05.31</td>\n",
       "      <td>-</td>\n",
       "      <td>Ryan-Rhys</td>\n",
       "      <td>Phutressniak</td>\n",
       "      <td>1-0</td>\n",
       "      <td>FM</td>\n",
       "      <td>2468</td>\n",
       "      <td>2426</td>\n",
       "      <td>E46</td>\n",
       "      <td>Nimzo-Indian Defense: Reshevsky Variation</td>\n",
       "      <td>180+0</td>\n",
       "      <td>2020.05.31</td>\n",
       "      <td>23:59:35</td>\n",
       "      <td>Time forfeit</td>\n",
       "      <td>+5</td>\n",
       "      <td>-5</td>\n",
       "      <td>LM</td>\n",
       "      <td>NaN</td>\n",
       "    </tr>\n",
       "    <tr>\n",
       "      <th>369769</th>\n",
       "      <td>Rated Blitz game</td>\n",
       "      <td>?</td>\n",
       "      <td>2020.05.31</td>\n",
       "      <td>-</td>\n",
       "      <td>MagicDreams93</td>\n",
       "      <td>zsolti_83</td>\n",
       "      <td>0-1</td>\n",
       "      <td>NaN</td>\n",
       "      <td>2373</td>\n",
       "      <td>2486</td>\n",
       "      <td>E46</td>\n",
       "      <td>Nimzo-Indian Defense: Reshevsky Variation</td>\n",
       "      <td>180+2</td>\n",
       "      <td>2020.05.31</td>\n",
       "      <td>23:59:41</td>\n",
       "      <td>Normal</td>\n",
       "      <td>-4</td>\n",
       "      <td>+4</td>\n",
       "      <td>NaN</td>\n",
       "      <td>NaN</td>\n",
       "    </tr>\n",
       "    <tr>\n",
       "      <th>369770</th>\n",
       "      <td>Rated Blitz game</td>\n",
       "      <td>?</td>\n",
       "      <td>2020.05.31</td>\n",
       "      <td>-</td>\n",
       "      <td>Chessbard1972</td>\n",
       "      <td>guicar16</td>\n",
       "      <td>0-1</td>\n",
       "      <td>NaN</td>\n",
       "      <td>2345</td>\n",
       "      <td>2489</td>\n",
       "      <td>C50</td>\n",
       "      <td>Italian Game: Hungarian Defense</td>\n",
       "      <td>180+2</td>\n",
       "      <td>2020.05.31</td>\n",
       "      <td>23:59:49</td>\n",
       "      <td>Normal</td>\n",
       "      <td>-3</td>\n",
       "      <td>+4</td>\n",
       "      <td>CM</td>\n",
       "      <td>NaN</td>\n",
       "    </tr>\n",
       "    <tr>\n",
       "      <th>369771</th>\n",
       "      <td>Rated Blitz game</td>\n",
       "      <td>?</td>\n",
       "      <td>2020.05.31</td>\n",
       "      <td>-</td>\n",
       "      <td>MikeGScarn</td>\n",
       "      <td>HansSchmidt</td>\n",
       "      <td>1-0</td>\n",
       "      <td>NaN</td>\n",
       "      <td>2826</td>\n",
       "      <td>2866</td>\n",
       "      <td>D90</td>\n",
       "      <td>Grünfeld Defense: Three Knights Variation</td>\n",
       "      <td>180+0</td>\n",
       "      <td>2020.05.31</td>\n",
       "      <td>23:59:50</td>\n",
       "      <td>Time forfeit</td>\n",
       "      <td>+7</td>\n",
       "      <td>-6</td>\n",
       "      <td>NaN</td>\n",
       "      <td>NaN</td>\n",
       "    </tr>\n",
       "  </tbody>\n",
       "</table>\n",
       "<p>3819130 rows × 20 columns</p>\n",
       "</div>"
      ]
     },
     "execution_count": 14,
     "metadata": {},
     "output_type": "execute_result"
    }
   ],
   "execution_count": 14
  },
  {
   "metadata": {
    "ExecuteTime": {
     "end_time": "2024-10-07T08:43:12.240909Z",
     "start_time": "2024-10-07T08:43:12.236606Z"
    }
   },
   "cell_type": "code",
   "source": "headers.columns",
   "id": "54f6a832e2b92114",
   "outputs": [
    {
     "data": {
      "text/plain": [
       "Index(['Event', 'Site', 'Date', 'Round', 'White', 'Black', 'Result',\n",
       "       'WhiteTitle', 'WhiteElo', 'BlackElo', 'ECO', 'Opening', 'TimeControl',\n",
       "       'UTCDate', 'UTCTime', 'Termination', 'WhiteRatingDiff',\n",
       "       'BlackRatingDiff', 'BlackTitle', 'LichessId'],\n",
       "      dtype='object')"
      ]
     },
     "execution_count": 15,
     "metadata": {},
     "output_type": "execute_result"
    }
   ],
   "execution_count": 15
  },
  {
   "metadata": {},
   "cell_type": "markdown",
   "source": "### 1. Event",
   "id": "231ba24588f34867"
  },
  {
   "metadata": {
    "ExecuteTime": {
     "end_time": "2024-10-07T08:43:58.819323Z",
     "start_time": "2024-10-07T08:43:58.308279Z"
    }
   },
   "cell_type": "code",
   "source": "headers[\"Event\"].nunique()",
   "id": "2cfff3865fa2687e",
   "outputs": [
    {
     "data": {
      "text/plain": [
       "3"
      ]
     },
     "execution_count": 16,
     "metadata": {},
     "output_type": "execute_result"
    }
   ],
   "execution_count": 16
  },
  {
   "metadata": {
    "ExecuteTime": {
     "end_time": "2024-10-07T08:44:24.484914Z",
     "start_time": "2024-10-07T08:44:24.020907Z"
    }
   },
   "cell_type": "code",
   "source": "headers[\"Event\"].value_counts()",
   "id": "5bbe09ed4227ad32",
   "outputs": [
    {
     "data": {
      "text/plain": [
       "Event\n",
       "Rated Blitz game        3774133\n",
       "Rated Rapid game          24152\n",
       "Rated Classical game      20845\n",
       "Name: count, dtype: int64"
      ]
     },
     "execution_count": 17,
     "metadata": {},
     "output_type": "execute_result"
    }
   ],
   "execution_count": 17
  },
  {
   "metadata": {
    "ExecuteTime": {
     "end_time": "2024-10-07T08:45:21.715406Z",
     "start_time": "2024-10-07T08:45:21.446628Z"
    }
   },
   "cell_type": "code",
   "source": "headers[\"Event\"].isnull().sum()",
   "id": "6de9f72178dd353a",
   "outputs": [
    {
     "data": {
      "text/plain": [
       "0"
      ]
     },
     "execution_count": 19,
     "metadata": {},
     "output_type": "execute_result"
    }
   ],
   "execution_count": 19
  },
  {
   "metadata": {
    "ExecuteTime": {
     "end_time": "2024-10-07T08:46:46.658295Z",
     "start_time": "2024-10-07T08:46:37.020100Z"
    }
   },
   "cell_type": "code",
   "source": "sns.countplot(x=\"Event\",data=headers)",
   "id": "3ddbba3dd0c119a2",
   "outputs": [
    {
     "data": {
      "text/plain": [
       "<Axes: xlabel='Event', ylabel='count'>"
      ]
     },
     "execution_count": 22,
     "metadata": {},
     "output_type": "execute_result"
    },
    {
     "data": {
      "text/plain": [
       "<Figure size 640x480 with 1 Axes>"
      ],
      "image/png": "[encoded data removed]"
     },
     "metadata": {},
     "output_type": "display_data"
    }
   ],
   "execution_count": 22
  },
  {
   "metadata": {},
   "cell_type": "markdown",
   "source": "### 2. Site",
   "id": "2ec52543eeefe877"
  },
  {
   "metadata": {
    "ExecuteTime": {
     "end_time": "2024-10-07T08:48:32.241947Z",
     "start_time": "2024-10-07T08:48:32.123795Z"
    }
   },
   "cell_type": "code",
   "source": "headers.Site.nunique()",
   "id": "41905a98915ea3e1",
   "outputs": [
    {
     "data": {
      "text/plain": [
       "1"
      ]
     },
     "execution_count": 24,
     "metadata": {},
     "output_type": "execute_result"
    }
   ],
   "execution_count": 24
  },
  {
   "metadata": {
    "ExecuteTime": {
     "end_time": "2024-10-07T08:49:02.187284Z",
     "start_time": "2024-10-07T08:49:02.051326Z"
    }
   },
   "cell_type": "code",
   "source": "headers.Site.unique()",
   "id": "f6b3b76de691c742",
   "outputs": [
    {
     "data": {
      "text/plain": [
       "array(['?'], dtype=object)"
      ]
     },
     "execution_count": 27,
     "metadata": {},
     "output_type": "execute_result"
    }
   ],
   "execution_count": 27
  },
  {
   "metadata": {},
   "cell_type": "markdown",
   "source": "### 3. Date",
   "id": "c66d1c117dafb3c2"
  },
  {
   "metadata": {
    "ExecuteTime": {
     "end_time": "2024-10-07T08:51:30.003681Z",
     "start_time": "2024-10-07T08:51:29.404947Z"
    }
   },
   "cell_type": "code",
   "source": "headers.Date.value_counts()",
   "id": "9a4c8cb0b97a6da9",
   "outputs": [
    {
     "data": {
      "text/plain": [
       "Date\n",
       "????.??.??    665521\n",
       "2020.04.04     15667\n",
       "2020.04.05     15523\n",
       "2020.04.03     15482\n",
       "2020.04.02     15408\n",
       "               ...  \n",
       "2018.05.18       867\n",
       "2018.04.22       862\n",
       "2018.04.08       846\n",
       "2018.07.07       776\n",
       "2018.03.31        73\n",
       "Name: count, Length: 794, dtype: int64"
      ]
     },
     "execution_count": 30,
     "metadata": {},
     "output_type": "execute_result"
    }
   ],
   "execution_count": 30
  },
  {
   "metadata": {
    "ExecuteTime": {
     "end_time": "2024-10-07T08:52:54.868178Z",
     "start_time": "2024-10-07T08:52:49.030703Z"
    }
   },
   "cell_type": "code",
   "source": "year=headers.Date.str.split(\".\",n=1).str.get(0)",
   "id": "f1822446dd1cca5c",
   "outputs": [],
   "execution_count": 32
  },
  {
   "metadata": {
    "ExecuteTime": {
     "end_time": "2024-10-07T08:53:11.495025Z",
     "start_time": "2024-10-07T08:53:10.945463Z"
    }
   },
   "cell_type": "code",
   "source": "year.value_counts()",
   "id": "13d35ed065d422df",
   "outputs": [
    {
     "data": {
      "text/plain": [
       "Date\n",
       "2020    1654491\n",
       "2019    1153587\n",
       "????     665521\n",
       "2018     345531\n",
       "Name: count, dtype: int64"
      ]
     },
     "execution_count": 33,
     "metadata": {},
     "output_type": "execute_result"
    }
   ],
   "execution_count": 33
  },
  {
   "metadata": {
    "ExecuteTime": {
     "end_time": "2024-10-07T08:54:34.619919Z",
     "start_time": "2024-10-07T08:54:34.260666Z"
    }
   },
   "cell_type": "code",
   "source": "year[year==\"????\"]=\"2013-2017\"",
   "id": "8edf66f03d994097",
   "outputs": [],
   "execution_count": 35
  },
  {
   "metadata": {
    "ExecuteTime": {
     "end_time": "2024-10-07T08:55:29.632421Z",
     "start_time": "2024-10-07T08:55:29.371504Z"
    }
   },
   "cell_type": "code",
   "source": "year.value_counts()",
   "id": "c8df19c0e431ff6b",
   "outputs": [
    {
     "data": {
      "text/plain": [
       "Date\n",
       "2020         1654491\n",
       "2019         1153587\n",
       "2013-2017     665521\n",
       "2018          345531\n",
       "Name: count, dtype: int64"
      ]
     },
     "execution_count": 37,
     "metadata": {},
     "output_type": "execute_result"
    }
   ],
   "execution_count": 37
  },
  {
   "metadata": {
    "ExecuteTime": {
     "end_time": "2024-10-07T08:57:01.149999Z",
     "start_time": "2024-10-07T08:57:00.368363Z"
    }
   },
   "cell_type": "code",
   "source": [
    "plt.title(\"games per year\")\n",
    "plt.xlabel(\"year\")\n",
    "plt.ylabel(\"games per year\")\n",
    "plt.bar(year.value_counts().index,year.value_counts().values)"
   ],
   "id": "b3296ff9877b773b",
   "outputs": [
    {
     "data": {
      "text/plain": [
       "<BarContainer object of 4 artists>"
      ]
     },
     "execution_count": 39,
     "metadata": {},
     "output_type": "execute_result"
    },
    {
     "data": {
      "text/plain": [
       "<Figure size 640x480 with 1 Axes>"
      ],
      "image/png": "[encoded data removed]"
     },
     "metadata": {},
     "output_type": "display_data"
    }
   ],
   "execution_count": 39
  },
  {
   "metadata": {
    "ExecuteTime": {
     "end_time": "2024-10-07T09:07:45.900707Z",
     "start_time": "2024-10-07T09:07:37.694363Z"
    }
   },
   "cell_type": "code",
   "source": [
    "temp=headers.Date[headers.Date.str.split(\".\",n=1).str.get(0)==\"2018\"].str.split(\".\",n=3).str.get(1)\n",
    "temp=temp.value_counts().to_frame().reset_index().sort_values(by=['Date'])\n",
    "plt.figure(figsize=(10,5))\n",
    "plt.title(\"games per month in 2018\")\n",
    "plt.xlabel(\"month\")\n",
    "plt.ylabel(\"games per month\")\n",
    "plt.bar(temp[\"Date\"],temp[\"count\"])"
   ],
   "id": "83fc82a3c904398f",
   "outputs": [
    {
     "data": {
      "text/plain": [
       "<BarContainer object of 10 artists>"
      ]
     },
     "execution_count": 51,
     "metadata": {},
     "output_type": "execute_result"
    },
    {
     "data": {
      "text/plain": [
       "<Figure size 1000x500 with 1 Axes>"
      ],
      "image/png": "[encoded data removed]"
     },
     "metadata": {},
     "output_type": "display_data"
    }
   ],
   "execution_count": 51
  },
  {
   "metadata": {
    "ExecuteTime": {
     "end_time": "2024-10-07T09:08:26.843888Z",
     "start_time": "2024-10-07T09:08:16.061126Z"
    }
   },
   "cell_type": "code",
   "source": [
    "temp=headers.Date[headers.Date.str.split(\".\",n=1).str.get(0)==\"2019\"].str.split(\".\",n=3).str.get(1)\n",
    "temp=temp.value_counts().to_frame().reset_index().sort_values(by=['Date'])\n",
    "plt.figure(figsize=(10,5))\n",
    "plt.title(\"games per month in 2019\")\n",
    "plt.xlabel(\"month\")\n",
    "plt.ylabel(\"games per month\")\n",
    "plt.bar(temp[\"Date\"],temp[\"count\"])"
   ],
   "id": "58840a16eb2b7bd4",
   "outputs": [
    {
     "data": {
      "text/plain": [
       "<BarContainer object of 12 artists>"
      ]
     },
     "execution_count": 52,
     "metadata": {},
     "output_type": "execute_result"
    },
    {
     "data": {
      "text/plain": [
       "<Figure size 1000x500 with 1 Axes>"
      ],
      "image/png": "[encoded data removed]"
     },
     "metadata": {},
     "output_type": "display_data"
    }
   ],
   "execution_count": 52
  },
  {
   "metadata": {
    "ExecuteTime": {
     "end_time": "2024-10-07T09:09:01.595333Z",
     "start_time": "2024-10-07T09:08:48.904745Z"
    }
   },
   "cell_type": "code",
   "source": [
    "temp=headers.Date[headers.Date.str.split(\".\",n=1).str.get(0)==\"2020\"].str.split(\".\",n=3).str.get(1)\n",
    "temp=temp.value_counts().to_frame().reset_index().sort_values(by=['Date'])\n",
    "plt.figure(figsize=(10,5))\n",
    "plt.title(\"games per month in 2020\")\n",
    "plt.xlabel(\"month\")\n",
    "plt.ylabel(\"games per month\")\n",
    "plt.bar(temp[\"Date\"],temp[\"count\"])"
   ],
   "id": "715ad44346e994ac",
   "outputs": [
    {
     "data": {
      "text/plain": [
       "<BarContainer object of 5 artists>"
      ]
     },
     "execution_count": 53,
     "metadata": {},
     "output_type": "execute_result"
    },
    {
     "data": {
      "text/plain": [
       "<Figure size 1000x500 with 1 Axes>"
      ],
      "image/png": "[encoded data removed]"
     },
     "metadata": {},
     "output_type": "display_data"
    }
   ],
   "execution_count": 53
  },
  {
   "metadata": {},
   "cell_type": "markdown",
   "source": "- **In dataset, the number of games has gradually been increased with each next month**",
   "id": "f99cc40681bf52ee"
  },
  {
   "metadata": {},
   "cell_type": "markdown",
   "source": "### 4. Round",
   "id": "82a29ca95653a412"
  },
  {
   "metadata": {
    "ExecuteTime": {
     "end_time": "2024-10-07T09:16:47.617426Z",
     "start_time": "2024-10-07T09:16:47.475105Z"
    }
   },
   "cell_type": "code",
   "source": "headers.Round.unique()",
   "id": "c9ec661bc4355fc2",
   "outputs": [
    {
     "data": {
      "text/plain": [
       "array(['?', '-'], dtype=object)"
      ]
     },
     "execution_count": 56,
     "metadata": {},
     "output_type": "execute_result"
    }
   ],
   "execution_count": 56
  },
  {
   "metadata": {},
   "cell_type": "markdown",
   "source": "### 5. Result",
   "id": "7594b18db7d792db"
  },
  {
   "metadata": {
    "ExecuteTime": {
     "end_time": "2024-10-07T09:23:36.920212Z",
     "start_time": "2024-10-07T09:23:36.293671Z"
    }
   },
   "cell_type": "code",
   "source": "headers.Result.unique()",
   "id": "eb1a2e2b6c8833ed",
   "outputs": [
    {
     "data": {
      "text/plain": [
       "array(['1-0', '0-1', '1/2-1/2', '*'], dtype=object)"
      ]
     },
     "execution_count": 63,
     "metadata": {},
     "output_type": "execute_result"
    }
   ],
   "execution_count": 63
  },
  {
   "metadata": {
    "ExecuteTime": {
     "end_time": "2024-10-07T09:23:54.481963Z",
     "start_time": "2024-10-07T09:23:53.897377Z"
    }
   },
   "cell_type": "code",
   "source": "headers.Result.value_counts()",
   "id": "60ffdc218b677e2e",
   "outputs": [
    {
     "data": {
      "text/plain": [
       "Result\n",
       "1-0        1835842\n",
       "0-1        1666151\n",
       "1/2-1/2     315977\n",
       "*             1160\n",
       "Name: count, dtype: int64"
      ]
     },
     "execution_count": 64,
     "metadata": {},
     "output_type": "execute_result"
    }
   ],
   "execution_count": 64
  },
  {
   "metadata": {
    "ExecuteTime": {
     "end_time": "2024-10-07T09:26:44.598378Z",
     "start_time": "2024-10-07T09:26:29.699656Z"
    }
   },
   "cell_type": "code",
   "source": "sns.countplot(data=headers[headers.Result!=\"*\"],x=\"Result\")",
   "id": "4516851702ce9113",
   "outputs": [
    {
     "data": {
      "text/plain": [
       "<Axes: xlabel='Result', ylabel='count'>"
      ]
     },
     "execution_count": 65,
     "metadata": {},
     "output_type": "execute_result"
    },
    {
     "data": {
      "text/plain": [
       "<Figure size 640x480 with 1 Axes>"
      ],
      "image/png": "[encoded data removed]"
     },
     "metadata": {},
     "output_type": "display_data"
    }
   ],
   "execution_count": 65
  },
  {
   "metadata": {},
   "cell_type": "markdown",
   "source": "### 6. Opening",
   "id": "3aa2fac63d1173ed"
  },
  {
   "metadata": {
    "ExecuteTime": {
     "end_time": "2024-10-07T09:53:41.922066Z",
     "start_time": "2024-10-07T09:53:41.471836Z"
    }
   },
   "cell_type": "code",
   "source": "opening=headers.Opening.value_counts().to_frame().reset_index()",
   "id": "5bec1e6f5af46dc8",
   "outputs": [],
   "execution_count": 68
  },
  {
   "metadata": {
    "ExecuteTime": {
     "end_time": "2024-10-07T09:53:48.225729Z",
     "start_time": "2024-10-07T09:53:48.218312Z"
    }
   },
   "cell_type": "code",
   "source": "opening",
   "id": "d3c4da446256d19c",
   "outputs": [
    {
     "data": {
      "text/plain": [
       "                                         Opening  count\n",
       "0                                    Indian Game  52658\n",
       "1                                 Modern Defense  39682\n",
       "2                              Trompowsky Attack  37842\n",
       "3            Sicilian Defense: Najdorf Variation  27917\n",
       "4             Sicilian Defense: Closed Variation  27858\n",
       "...                                          ...    ...\n",
       "3216                   Amar Opening: Gent Gambit      1\n",
       "3217    King's Indian, Saemisch, Ruban Variation      1\n",
       "3218  Nimzowitsch Defense: Franco-Hiva Gambit #2      1\n",
       "3219              Kadas Opening: Myers Variation      1\n",
       "3220        Bishop's Opening: Lisitsyn Variation      1\n",
       "\n",
       "[3221 rows x 2 columns]"
      ],
      "text/html": [
       "<div>\n",
       "<style scoped>\n",
       "    .dataframe tbody tr th:only-of-type {\n",
       "        vertical-align: middle;\n",
       "    }\n",
       "\n",
       "    .dataframe tbody tr th {\n",
       "        vertical-align: top;\n",
       "    }\n",
       "\n",
       "    .dataframe thead th {\n",
       "        text-align: right;\n",
       "    }\n",
       "</style>\n",
       "<table border=\"1\" class=\"dataframe\">\n",
       "  <thead>\n",
       "    <tr style=\"text-align: right;\">\n",
       "      <th></th>\n",
       "      <th>Opening</th>\n",
       "      <th>count</th>\n",
       "    </tr>\n",
       "  </thead>\n",
       "  <tbody>\n",
       "    <tr>\n",
       "      <th>0</th>\n",
       "      <td>Indian Game</td>\n",
       "      <td>52658</td>\n",
       "    </tr>\n",
       "    <tr>\n",
       "      <th>1</th>\n",
       "      <td>Modern Defense</td>\n",
       "      <td>39682</td>\n",
       "    </tr>\n",
       "    <tr>\n",
       "      <th>2</th>\n",
       "      <td>Trompowsky Attack</td>\n",
       "      <td>37842</td>\n",
       "    </tr>\n",
       "    <tr>\n",
       "      <th>3</th>\n",
       "      <td>Sicilian Defense: Najdorf Variation</td>\n",
       "      <td>27917</td>\n",
       "    </tr>\n",
       "    <tr>\n",
       "      <th>4</th>\n",
       "      <td>Sicilian Defense: Closed Variation</td>\n",
       "      <td>27858</td>\n",
       "    </tr>\n",
       "    <tr>\n",
       "      <th>...</th>\n",
       "      <td>...</td>\n",
       "      <td>...</td>\n",
       "    </tr>\n",
       "    <tr>\n",
       "      <th>3216</th>\n",
       "      <td>Amar Opening: Gent Gambit</td>\n",
       "      <td>1</td>\n",
       "    </tr>\n",
       "    <tr>\n",
       "      <th>3217</th>\n",
       "      <td>King's Indian, Saemisch, Ruban Variation</td>\n",
       "      <td>1</td>\n",
       "    </tr>\n",
       "    <tr>\n",
       "      <th>3218</th>\n",
       "      <td>Nimzowitsch Defense: Franco-Hiva Gambit #2</td>\n",
       "      <td>1</td>\n",
       "    </tr>\n",
       "    <tr>\n",
       "      <th>3219</th>\n",
       "      <td>Kadas Opening: Myers Variation</td>\n",
       "      <td>1</td>\n",
       "    </tr>\n",
       "    <tr>\n",
       "      <th>3220</th>\n",
       "      <td>Bishop's Opening: Lisitsyn Variation</td>\n",
       "      <td>1</td>\n",
       "    </tr>\n",
       "  </tbody>\n",
       "</table>\n",
       "<p>3221 rows × 2 columns</p>\n",
       "</div>"
      ]
     },
     "execution_count": 69,
     "metadata": {},
     "output_type": "execute_result"
    }
   ],
   "execution_count": 69
  },
  {
   "metadata": {
    "ExecuteTime": {
     "end_time": "2024-10-07T09:59:23.839327Z",
     "start_time": "2024-10-07T09:59:23.138524Z"
    }
   },
   "cell_type": "code",
   "source": [
    "plt.figure(figsize=(25,10))\n",
    "plt.title(\"Top 25 played Opening\")\n",
    "plt.xticks(rotation=90)\n",
    "plt.bar(x=opening[\"Opening\"][:50],height=opening[\"count\"][:50])\n"
   ],
   "id": "73a17cd4d3c8737d",
   "outputs": [
    {
     "data": {
      "text/plain": [
       "<BarContainer object of 50 artists>"
      ]
     },
     "execution_count": 77,
     "metadata": {},
     "output_type": "execute_result"
    },
    {
     "data": {
      "text/plain": [
       "<Figure size 2500x1000 with 1 Axes>"
      ],
      "image/png": "[encoded data removed]"
     },
     "metadata": {},
     "output_type": "display_data"
    }
   ],
   "execution_count": 77
  },
  {
   "metadata": {},
   "cell_type": "markdown",
   "source": "### 7. Termination",
   "id": "c221f5ac201d7ee9"
  },
  {
   "metadata": {
    "ExecuteTime": {
     "end_time": "2024-10-07T10:02:53.793912Z",
     "start_time": "2024-10-07T10:02:53.207662Z"
    }
   },
   "cell_type": "code",
   "source": "headers.Termination.value_counts()",
   "id": "573787e33bf01622",
   "outputs": [
    {
     "data": {
      "text/plain": [
       "Termination\n",
       "Normal              2896673\n",
       "Time forfeit         921226\n",
       "Abandoned              1160\n",
       "Rules infraction         71\n",
       "Name: count, dtype: int64"
      ]
     },
     "execution_count": 78,
     "metadata": {},
     "output_type": "execute_result"
    }
   ],
   "execution_count": 78
  },
  {
   "metadata": {},
   "cell_type": "markdown",
   "source": "# Game Encoding",
   "id": "b7a2f6dc3c9fed6"
  },
  {
   "metadata": {
    "ExecuteTime": {
     "end_time": "2024-10-07T16:18:55.808361Z",
     "start_time": "2024-10-07T16:18:55.803762Z"
    }
   },
   "cell_type": "code",
   "source": [
    "def bitmap_encoding(board):\n",
    "    \"\"\" Convert a chess.Board to a NumPy array with piece representations. \"\"\"\n",
    "    numpy_board = np.zeros(shape=(8,8))#np.full((8, 8), 0, dtype=object)  # Start with an empty board filled with 0\n",
    "\n",
    "    for square, piece in board.piece_map().items():\n",
    "        row, col = divmod(square, 8)\n",
    "        piece_symbol = 1 if piece.symbol()==piece.symbol().lower() else -1  # fill pieces position with 1 and -1\n",
    "        numpy_board[row][col] = piece_symbol\n",
    "\n",
    "    return numpy_board.reshape(-1) \n",
    "\n",
    "\n"
   ],
   "id": "9a1afd41acacce19",
   "outputs": [],
   "execution_count": 2
  },
  {
   "metadata": {
    "ExecuteTime": {
     "end_time": "2024-10-07T16:18:58.206587Z",
     "start_time": "2024-10-07T16:18:58.200865Z"
    }
   },
   "cell_type": "code",
   "source": [
    "def get_game_matrix(game,num_moves=50):\n",
    "    numpy_game= np.zeros(shape=(num_moves,64))  #np.full((num_moves,8, 8), 0, dtype=object)\n",
    "    \n",
    "    board=game.board()\n",
    "    \n",
    "    numpy_game[0]=bitmap_encoding(board)\n",
    "    \n",
    "    for num, move in enumerate( game.mainline_moves()):\n",
    "        if num+1==num_moves:\n",
    "            break\n",
    "        board.push(move)\n",
    "        numpy_game[num+1]=bitmap_encoding(board)\n",
    "        \n",
    "     \n",
    "    return numpy_game \n",
    "        \n",
    "        \n",
    "        \n",
    "        \n",
    "    \n",
    "    \n",
    "    "
   ],
   "id": "fefe7985f89d1f24",
   "outputs": [],
   "execution_count": 3
  },
  {
   "metadata": {
    "ExecuteTime": {
     "end_time": "2024-10-07T20:32:52.893618Z",
     "start_time": "2024-10-07T20:32:52.885634Z"
    }
   },
   "cell_type": "code",
   "source": [
    "def encoded_all_game(dir_path,save_path,memmap_shape=(300000,64,64)):\n",
    "    pgn_files=os.listdir(dir_path)\n",
    "    games_tensor=np.memmap(save_path,dtype='float64',mode='w+',shape=memmap_shape)\n",
    "    current_index=0\n",
    "    target=np.zeros(memmap_shape[0])\n",
    "    \n",
    "    for num,pgn_file in enumerate(pgn_files):\n",
    "        with open(os.path.join(dir_path,pgn_file)) as PGN_file:\n",
    "            \n",
    "            while True:\n",
    "                game=chess.pgn.read_game(PGN_file)\n",
    "                \n",
    "\n",
    "                if game is None:\n",
    "                    break\n",
    "                    \n",
    "                    \n",
    "                if game.headers[\"Termination\"] in ['Abandoned','Rules infraction']:\n",
    "                    continue\n",
    "                \n",
    "                result=str(game.headers[\"Result\"])\n",
    "                if result=='0-1':\n",
    "                    target[current_index]=0\n",
    "                \n",
    "                elif result=='1-0':\n",
    "                    target[current_index]=1\n",
    "                \n",
    "                else:\n",
    "                    target[current_index]=2\n",
    "                  \n",
    "                \n",
    "                games_tensor[current_index]=get_game_matrix(game,num_moves=memmap_shape[1])\n",
    "                \n",
    "\n",
    "                current_index+=1\n",
    "                \n",
    "                \n",
    "                if not current_index%100000:\n",
    "                    print(f\"{current_index}/{memmap_shape[0]} is done\")\n",
    "                    \n",
    "                    \n",
    "                if current_index>=memmap_shape[0]:\n",
    "                    break\n",
    "            \n",
    "        if current_index>=memmap_shape[0]:\n",
    "            break\n",
    "    \n",
    "    games_tensor.flush()\n",
    "    np.save(\"../data/cleaned/target.npy\",target)\n",
    "            "
   ],
   "id": "8aab22d4b6f3a3e",
   "outputs": [],
   "execution_count": 75
  },
  {
   "metadata": {
    "ExecuteTime": {
     "end_time": "2024-10-07T21:08:05.660155Z",
     "start_time": "2024-10-07T20:32:58.263735Z"
    }
   },
   "cell_type": "code",
   "source": "encoded_all_game(\"../data/PGN\",\"../data/cleaned/games_tensor.dat\")",
   "id": "870c3afdc00a6c7b",
   "outputs": [
    {
     "name": "stdout",
     "output_type": "stream",
     "text": [
      "100000/300000 is done\n",
      "200000/300000 is done\n",
      "300000/300000 is done\n"
     ]
    }
   ],
   "execution_count": 76
  },
  {
   "metadata": {
    "ExecuteTime": {
     "end_time": "2024-10-07T14:00:00.778523Z",
     "start_time": "2024-10-07T14:00:00.773966Z"
    }
   },
   "cell_type": "code",
   "source": "games_tensor[0][0]",
   "id": "b17dea8e73c21434",
   "outputs": [
    {
     "data": {
      "text/plain": [
       "memmap([-1., -1., -1., -1., -1., -1., -1., -1., -1., -1., -1., -1., -1.,\n",
       "        -1., -1., -1.,  0.,  0.,  0.,  0.,  0.,  0.,  0.,  0.,  0.,  0.,\n",
       "         0.,  0.,  0.,  0.,  0.,  0.,  0.,  0.,  0.,  0.,  0.,  0.,  0.,\n",
       "         0.,  0.,  0.,  0.,  0.,  0.,  0.,  0.,  0.,  1.,  1.,  1.,  1.,\n",
       "         1.,  1.,  1.,  1.,  1.,  1.,  1.,  1.,  1.,  1.,  1.,  1.])"
      ]
     },
     "execution_count": 67,
     "metadata": {},
     "output_type": "execute_result"
    }
   ],
   "execution_count": 67
  },
  {
   "metadata": {
    "ExecuteTime": {
     "end_time": "2024-10-07T13:19:31.243250Z",
     "start_time": "2024-10-07T13:19:31.229919Z"
    }
   },
   "cell_type": "code",
   "source": [
    "pgn = open(\"../data/PGN/lichess_elite_2013-09.pgn\",\"r\")\n",
    "game=chess.pgn.read_game(pgn)\n",
    "get_game_matrix(game)\n"
   ],
   "id": "5ca2918181bc858",
   "outputs": [
    {
     "data": {
      "text/plain": [
       "array([[-1., -1., -1., ...,  1.,  1.,  1.],\n",
       "       [-1., -1., -1., ...,  1.,  1.,  1.],\n",
       "       [-1., -1., -1., ...,  1.,  1.,  1.],\n",
       "       ...,\n",
       "       [-1.,  0.,  0., ...,  0.,  0.,  1.],\n",
       "       [-1.,  0.,  0., ...,  1.,  0.,  1.],\n",
       "       [-1.,  0.,  0., ...,  1.,  0.,  1.]])"
      ]
     },
     "execution_count": 48,
     "metadata": {},
     "output_type": "execute_result"
    }
   ],
   "execution_count": 48
  },
  {
   "metadata": {
    "ExecuteTime": {
     "end_time": "2024-10-07T13:20:57.599775Z",
     "start_time": "2024-10-07T13:20:57.592296Z"
    }
   },
   "cell_type": "code",
   "source": "game.board()",
   "id": "3798314582c4b9e7",
   "outputs": [
    {
     "data": {
      "text/plain": [
       "Board('rnbqkbnr/pppppppp/8/8/8/8/PPPPPPPP/RNBQKBNR w KQkq - 0 1')"
      ],
      "image/svg+xml": "<svg xmlns=\"http://www.w3.org/2000/svg\" xmlns:xlink=\"http://www.w3.org/1999/xlink\" viewBox=\"0 0 390 390\" width=\"390\" height=\"390\"><desc><pre>r n b q k b n r\np p p p p p p p\n. . . . . . . .\n. . . . . . . .\n. . . . . . . .\n. . . . . . . .\nP P P P P P P P\nR N B Q K B N R</pre></desc><defs><g id=\"white-pawn\" class=\"white pawn\"><path d=\"M22.5 9c-2.21 0-4 1.79-4 4 0 .89.29 1.71.78 2.38C17.33 16.5 16 18.59 16 21c0 2.03.94 3.84 2.41 5.03-3 1.06-7.41 5.55-7.41 13.47h23c0-7.92-4.41-12.41-7.41-13.47 1.47-1.19 2.41-3 2.41-5.03 0-2.41-1.33-4.5-3.28-5.62.49-.67.78-1.49.78-2.38 0-2.21-1.79-4-4-4z\" fill=\"#fff\" stroke=\"#000\" stroke-width=\"1.5\" stroke-linecap=\"round\" /></g><g id=\"white-knight\" class=\"white knight\" fill=\"none\" fill-rule=\"evenodd\" stroke=\"#000\" stroke-width=\"1.5\" stroke-linecap=\"round\" stroke-linejoin=\"round\"><path d=\"M 22,10 C 32.5,11 38.5,18 38,39 L 15,39 C 15,30 25,32.5 23,18\" style=\"fill:#ffffff; stroke:#000000;\" /><path d=\"M 24,18 C 24.38,20.91 18.45,25.37 16,27 C 13,29 13.18,31.34 11,31 C 9.958,30.06 12.41,27.96 11,28 C 10,28 11.19,29.23 10,30 C 9,30 5.997,31 6,26 C 6,24 12,14 12,14 C 12,14 13.89,12.1 14,10.5 C 13.27,9.506 13.5,8.5 13.5,7.5 C 14.5,6.5 16.5,10 16.5,10 L 18.5,10 C 18.5,10 19.28,8.008 21,7 C 22,7 22,10 22,10\" style=\"fill:#ffffff; stroke:#000000;\" /><path d=\"M 9.5 25.5 A 0.5 0.5 0 1 1 8.5,25.5 A 0.5 0.5 0 1 1 9.5 25.5 z\" style=\"fill:#000000; stroke:#000000;\" /><path d=\"M 15 15.5 A 0.5 1.5 0 1 1 14,15.5 A 0.5 1.5 0 1 1 15 15.5 z\" transform=\"matrix(0.866,0.5,-0.5,0.866,9.693,-5.173)\" style=\"fill:#000000; stroke:#000000;\" /></g><g id=\"white-bishop\" class=\"white bishop\" fill=\"none\" fill-rule=\"evenodd\" stroke=\"#000\" stroke-width=\"1.5\" stroke-linecap=\"round\" stroke-linejoin=\"round\"><g fill=\"#fff\" stroke-linecap=\"butt\"><path d=\"M9 36c3.39-.97 10.11.43 13.5-2 3.39 2.43 10.11 1.03 13.5 2 0 0 1.65.54 3 2-.68.97-1.65.99-3 .5-3.39-.97-10.11.46-13.5-1-3.39 1.46-10.11.03-13.5 1-1.354.49-2.323.47-3-.5 1.354-1.94 3-2 3-2zM15 32c2.5 2.5 12.5 2.5 15 0 .5-1.5 0-2 0-2 0-2.5-2.5-4-2.5-4 5.5-1.5 6-11.5-5-15.5-11 4-10.5 14-5 15.5 0 0-2.5 1.5-2.5 4 0 0-.5.5 0 2zM25 8a2.5 2.5 0 1 1-5 0 2.5 2.5 0 1 1 5 0z\" /></g><path d=\"M17.5 26h10M15 30h15m-7.5-14.5v5M20 18h5\" stroke-linejoin=\"miter\" /></g><g id=\"white-rook\" class=\"white rook\" fill=\"#fff\" fill-rule=\"evenodd\" stroke=\"#000\" stroke-width=\"1.5\" stroke-linecap=\"round\" stroke-linejoin=\"round\"><path d=\"M9 39h27v-3H9v3zM12 36v-4h21v4H12zM11 14V9h4v2h5V9h5v2h5V9h4v5\" stroke-linecap=\"butt\" /><path d=\"M34 14l-3 3H14l-3-3\" /><path d=\"M31 17v12.5H14V17\" stroke-linecap=\"butt\" stroke-linejoin=\"miter\" /><path d=\"M31 29.5l1.5 2.5h-20l1.5-2.5\" /><path d=\"M11 14h23\" fill=\"none\" stroke-linejoin=\"miter\" /></g><g id=\"white-queen\" class=\"white queen\" fill=\"#fff\" fill-rule=\"evenodd\" stroke=\"#000\" stroke-width=\"1.5\" stroke-linecap=\"round\" stroke-linejoin=\"round\"><path d=\"M8 12a2 2 0 1 1-4 0 2 2 0 1 1 4 0zM24.5 7.5a2 2 0 1 1-4 0 2 2 0 1 1 4 0zM41 12a2 2 0 1 1-4 0 2 2 0 1 1 4 0zM16 8.5a2 2 0 1 1-4 0 2 2 0 1 1 4 0zM33 9a2 2 0 1 1-4 0 2 2 0 1 1 4 0z\" /><path d=\"M9 26c8.5-1.5 21-1.5 27 0l2-12-7 11V11l-5.5 13.5-3-15-3 15-5.5-14V25L7 14l2 12zM9 26c0 2 1.5 2 2.5 4 1 1.5 1 1 .5 3.5-1.5 1-1.5 2.5-1.5 2.5-1.5 1.5.5 2.5.5 2.5 6.5 1 16.5 1 23 0 0 0 1.5-1 0-2.5 0 0 .5-1.5-1-2.5-.5-2.5-.5-2 .5-3.5 1-2 2.5-2 2.5-4-8.5-1.5-18.5-1.5-27 0z\" stroke-linecap=\"butt\" /><path d=\"M11.5 30c3.5-1 18.5-1 22 0M12 33.5c6-1 15-1 21 0\" fill=\"none\" /></g><g id=\"white-king\" class=\"white king\" fill=\"none\" fill-rule=\"evenodd\" stroke=\"#000\" stroke-width=\"1.5\" stroke-linecap=\"round\" stroke-linejoin=\"round\"><path d=\"M22.5 11.63V6M20 8h5\" stroke-linejoin=\"miter\" /><path d=\"M22.5 25s4.5-7.5 3-10.5c0 0-1-2.5-3-2.5s-3 2.5-3 2.5c-1.5 3 3 10.5 3 10.5\" fill=\"#fff\" stroke-linecap=\"butt\" stroke-linejoin=\"miter\" /><path d=\"M11.5 37c5.5 3.5 15.5 3.5 21 0v-7s9-4.5 6-10.5c-4-6.5-13.5-3.5-16 4V27v-3.5c-3.5-7.5-13-10.5-16-4-3 6 5 10 5 10V37z\" fill=\"#fff\" /><path d=\"M11.5 30c5.5-3 15.5-3 21 0m-21 3.5c5.5-3 15.5-3 21 0m-21 3.5c5.5-3 15.5-3 21 0\" /></g><g id=\"black-pawn\" class=\"black pawn\"><path d=\"M22.5 9c-2.21 0-4 1.79-4 4 0 .89.29 1.71.78 2.38C17.33 16.5 16 18.59 16 21c0 2.03.94 3.84 2.41 5.03-3 1.06-7.41 5.55-7.41 13.47h23c0-7.92-4.41-12.41-7.41-13.47 1.47-1.19 2.41-3 2.41-5.03 0-2.41-1.33-4.5-3.28-5.62.49-.67.78-1.49.78-2.38 0-2.21-1.79-4-4-4z\" fill=\"#000\" stroke=\"#000\" stroke-width=\"1.5\" stroke-linecap=\"round\" /></g><g id=\"black-knight\" class=\"black knight\" fill=\"none\" fill-rule=\"evenodd\" stroke=\"#000\" stroke-width=\"1.5\" stroke-linecap=\"round\" stroke-linejoin=\"round\"><path d=\"M 22,10 C 32.5,11 38.5,18 38,39 L 15,39 C 15,30 25,32.5 23,18\" style=\"fill:#000000; stroke:#000000;\" /><path d=\"M 24,18 C 24.38,20.91 18.45,25.37 16,27 C 13,29 13.18,31.34 11,31 C 9.958,30.06 12.41,27.96 11,28 C 10,28 11.19,29.23 10,30 C 9,30 5.997,31 6,26 C 6,24 12,14 12,14 C 12,14 13.89,12.1 14,10.5 C 13.27,9.506 13.5,8.5 13.5,7.5 C 14.5,6.5 16.5,10 16.5,10 L 18.5,10 C 18.5,10 19.28,8.008 21,7 C 22,7 22,10 22,10\" style=\"fill:#000000; stroke:#000000;\" /><path d=\"M 9.5 25.5 A 0.5 0.5 0 1 1 8.5,25.5 A 0.5 0.5 0 1 1 9.5 25.5 z\" style=\"fill:#ececec; stroke:#ececec;\" /><path d=\"M 15 15.5 A 0.5 1.5 0 1 1 14,15.5 A 0.5 1.5 0 1 1 15 15.5 z\" transform=\"matrix(0.866,0.5,-0.5,0.866,9.693,-5.173)\" style=\"fill:#ececec; stroke:#ececec;\" /><path d=\"M 24.55,10.4 L 24.1,11.85 L 24.6,12 C 27.75,13 30.25,14.49 32.5,18.75 C 34.75,23.01 35.75,29.06 35.25,39 L 35.2,39.5 L 37.45,39.5 L 37.5,39 C 38,28.94 36.62,22.15 34.25,17.66 C 31.88,13.17 28.46,11.02 25.06,10.5 L 24.55,10.4 z \" style=\"fill:#ececec; stroke:none;\" /></g><g id=\"black-bishop\" class=\"black bishop\" fill=\"none\" fill-rule=\"evenodd\" stroke=\"#000\" stroke-width=\"1.5\" stroke-linecap=\"round\" stroke-linejoin=\"round\"><path d=\"M9 36c3.39-.97 10.11.43 13.5-2 3.39 2.43 10.11 1.03 13.5 2 0 0 1.65.54 3 2-.68.97-1.65.99-3 .5-3.39-.97-10.11.46-13.5-1-3.39 1.46-10.11.03-13.5 1-1.354.49-2.323.47-3-.5 1.354-1.94 3-2 3-2zm6-4c2.5 2.5 12.5 2.5 15 0 .5-1.5 0-2 0-2 0-2.5-2.5-4-2.5-4 5.5-1.5 6-11.5-5-15.5-11 4-10.5 14-5 15.5 0 0-2.5 1.5-2.5 4 0 0-.5.5 0 2zM25 8a2.5 2.5 0 1 1-5 0 2.5 2.5 0 1 1 5 0z\" fill=\"#000\" stroke-linecap=\"butt\" /><path d=\"M17.5 26h10M15 30h15m-7.5-14.5v5M20 18h5\" stroke=\"#fff\" stroke-linejoin=\"miter\" /></g><g id=\"black-rook\" class=\"black rook\" fill=\"#000\" fill-rule=\"evenodd\" stroke=\"#000\" stroke-width=\"1.5\" stroke-linecap=\"round\" stroke-linejoin=\"round\"><path d=\"M9 39h27v-3H9v3zM12.5 32l1.5-2.5h17l1.5 2.5h-20zM12 36v-4h21v4H12z\" stroke-linecap=\"butt\" /><path d=\"M14 29.5v-13h17v13H14z\" stroke-linecap=\"butt\" stroke-linejoin=\"miter\" /><path d=\"M14 16.5L11 14h23l-3 2.5H14zM11 14V9h4v2h5V9h5v2h5V9h4v5H11z\" stroke-linecap=\"butt\" /><path d=\"M12 35.5h21M13 31.5h19M14 29.5h17M14 16.5h17M11 14h23\" fill=\"none\" stroke=\"#fff\" stroke-width=\"1\" stroke-linejoin=\"miter\" /></g><g id=\"black-queen\" class=\"black queen\" fill=\"#000\" fill-rule=\"evenodd\" stroke=\"#000\" stroke-width=\"1.5\" stroke-linecap=\"round\" stroke-linejoin=\"round\"><g fill=\"#000\" stroke=\"none\"><circle cx=\"6\" cy=\"12\" r=\"2.75\" /><circle cx=\"14\" cy=\"9\" r=\"2.75\" /><circle cx=\"22.5\" cy=\"8\" r=\"2.75\" /><circle cx=\"31\" cy=\"9\" r=\"2.75\" /><circle cx=\"39\" cy=\"12\" r=\"2.75\" /></g><path d=\"M9 26c8.5-1.5 21-1.5 27 0l2.5-12.5L31 25l-.3-14.1-5.2 13.6-3-14.5-3 14.5-5.2-13.6L14 25 6.5 13.5 9 26zM9 26c0 2 1.5 2 2.5 4 1 1.5 1 1 .5 3.5-1.5 1-1.5 2.5-1.5 2.5-1.5 1.5.5 2.5.5 2.5 6.5 1 16.5 1 23 0 0 0 1.5-1 0-2.5 0 0 .5-1.5-1-2.5-.5-2.5-.5-2 .5-3.5 1-2 2.5-2 2.5-4-8.5-1.5-18.5-1.5-27 0z\" stroke-linecap=\"butt\" /><path d=\"M11 38.5a35 35 1 0 0 23 0\" fill=\"none\" stroke-linecap=\"butt\" /><path d=\"M11 29a35 35 1 0 1 23 0M12.5 31.5h20M11.5 34.5a35 35 1 0 0 22 0M10.5 37.5a35 35 1 0 0 24 0\" fill=\"none\" stroke=\"#fff\" /></g><g id=\"black-king\" class=\"black king\" fill=\"none\" fill-rule=\"evenodd\" stroke=\"#000\" stroke-width=\"1.5\" stroke-linecap=\"round\" stroke-linejoin=\"round\"><path d=\"M22.5 11.63V6\" stroke-linejoin=\"miter\" /><path d=\"M22.5 25s4.5-7.5 3-10.5c0 0-1-2.5-3-2.5s-3 2.5-3 2.5c-1.5 3 3 10.5 3 10.5\" fill=\"#000\" stroke-linecap=\"butt\" stroke-linejoin=\"miter\" /><path d=\"M11.5 37c5.5 3.5 15.5 3.5 21 0v-7s9-4.5 6-10.5c-4-6.5-13.5-3.5-16 4V27v-3.5c-3.5-7.5-13-10.5-16-4-3 6 5 10 5 10V37z\" fill=\"#000\" /><path d=\"M20 8h5\" stroke-linejoin=\"miter\" /><path d=\"M32 29.5s8.5-4 6.03-9.65C34.15 14 25 18 22.5 24.5l.01 2.1-.01-2.1C20 18 9.906 14 6.997 19.85c-2.497 5.65 4.853 9 4.853 9M11.5 30c5.5-3 15.5-3 21 0m-21 3.5c5.5-3 15.5-3 21 0m-21 3.5c5.5-3 15.5-3 21 0\" stroke=\"#fff\" /></g></defs><rect x=\"7.5\" y=\"7.5\" width=\"375\" height=\"375\" fill=\"none\" stroke=\"#212121\" stroke-width=\"15\" /><g transform=\"translate(20, 1) scale(0.75, 0.75)\" fill=\"#e5e5e5\" stroke=\"#e5e5e5\"><path d=\"M23.328 10.016q-1.742 0-2.414.398-.672.398-.672 1.36 0 .765.5 1.218.508.445 1.375.445 1.196 0 1.914-.843.727-.852.727-2.258v-.32zm2.867-.594v4.992h-1.437v-1.328q-.492.797-1.227 1.18-.734.375-1.797.375-1.343 0-2.14-.75-.79-.758-.79-2.024 0-1.476.985-2.226.992-.75 2.953-.75h2.016V8.75q0-.992-.656-1.531-.649-.547-1.829-.547-.75 0-1.46.18-.711.18-1.368.539V6.062q.79-.304 1.532-.453.742-.156 1.445-.156 1.898 0 2.836.984.937.985.937 2.985z\" /></g><g transform=\"translate(20, 375) scale(0.75, 0.75)\" fill=\"#e5e5e5\" stroke=\"#e5e5e5\"><path d=\"M23.328 10.016q-1.742 0-2.414.398-.672.398-.672 1.36 0 .765.5 1.218.508.445 1.375.445 1.196 0 1.914-.843.727-.852.727-2.258v-.32zm2.867-.594v4.992h-1.437v-1.328q-.492.797-1.227 1.18-.734.375-1.797.375-1.343 0-2.14-.75-.79-.758-.79-2.024 0-1.476.985-2.226.992-.75 2.953-.75h2.016V8.75q0-.992-.656-1.531-.649-.547-1.829-.547-.75 0-1.46.18-.711.18-1.368.539V6.062q.79-.304 1.532-.453.742-.156 1.445-.156 1.898 0 2.836.984.937.985.937 2.985z\" /></g><g transform=\"translate(65, 1) scale(0.75, 0.75)\" fill=\"#e5e5e5\" stroke=\"#e5e5e5\"><path d=\"M24.922 10.047q0-1.586-.656-2.485-.649-.906-1.79-.906-1.14 0-1.796.906-.649.899-.649 2.485 0 1.586.649 2.492.656.898 1.797.898 1.14 0 1.789-.898.656-.906.656-2.492zm-4.89-3.055q.452-.781 1.14-1.156.695-.383 1.656-.383 1.594 0 2.586 1.266 1 1.265 1 3.328 0 2.062-1 3.328-.992 1.266-2.586 1.266-.96 0-1.656-.375-.688-.383-1.14-1.164v1.312h-1.446V2.258h1.445z\" /></g><g transform=\"translate(65, 375) scale(0.75, 0.75)\" fill=\"#e5e5e5\" stroke=\"#e5e5e5\"><path d=\"M24.922 10.047q0-1.586-.656-2.485-.649-.906-1.79-.906-1.14 0-1.796.906-.649.899-.649 2.485 0 1.586.649 2.492.656.898 1.797.898 1.14 0 1.789-.898.656-.906.656-2.492zm-4.89-3.055q.452-.781 1.14-1.156.695-.383 1.656-.383 1.594 0 2.586 1.266 1 1.265 1 3.328 0 2.062-1 3.328-.992 1.266-2.586 1.266-.96 0-1.656-.375-.688-.383-1.14-1.164v1.312h-1.446V2.258h1.445z\" /></g><g transform=\"translate(110, 1) scale(0.75, 0.75)\" fill=\"#e5e5e5\" stroke=\"#e5e5e5\"><path d=\"M25.96 6v1.344q-.608-.336-1.226-.5-.609-.172-1.234-.172-1.398 0-2.172.89-.773.883-.773 2.485 0 1.601.773 2.492.774.883 2.172.883.625 0 1.234-.164.618-.172 1.227-.508v1.328q-.602.281-1.25.422-.64.14-1.367.14-1.977 0-3.14-1.242-1.165-1.242-1.165-3.351 0-2.14 1.172-3.367 1.18-1.227 3.227-1.227.664 0 1.296.14.633.134 1.227.407z\" /></g><g transform=\"translate(110, 375) scale(0.75, 0.75)\" fill=\"#e5e5e5\" stroke=\"#e5e5e5\"><path d=\"M25.96 6v1.344q-.608-.336-1.226-.5-.609-.172-1.234-.172-1.398 0-2.172.89-.773.883-.773 2.485 0 1.601.773 2.492.774.883 2.172.883.625 0 1.234-.164.618-.172 1.227-.508v1.328q-.602.281-1.25.422-.64.14-1.367.14-1.977 0-3.14-1.242-1.165-1.242-1.165-3.351 0-2.14 1.172-3.367 1.18-1.227 3.227-1.227.664 0 1.296.14.633.134 1.227.407z\" /></g><g transform=\"translate(155, 1) scale(0.75, 0.75)\" fill=\"#e5e5e5\" stroke=\"#e5e5e5\"><path d=\"M24.973 6.992V2.258h1.437v12.156h-1.437v-1.312q-.453.78-1.149 1.164-.687.375-1.656.375-1.586 0-2.586-1.266-.992-1.266-.992-3.328 0-2.063.992-3.328 1-1.266 2.586-1.266.969 0 1.656.383.696.375 1.149 1.156zm-4.899 3.055q0 1.586.649 2.492.656.898 1.797.898 1.14 0 1.796-.898.657-.906.657-2.492 0-1.586-.657-2.485-.656-.906-1.796-.906-1.141 0-1.797.906-.649.899-.649 2.485z\" /></g><g transform=\"translate(155, 375) scale(0.75, 0.75)\" fill=\"#e5e5e5\" stroke=\"#e5e5e5\"><path d=\"M24.973 6.992V2.258h1.437v12.156h-1.437v-1.312q-.453.78-1.149 1.164-.687.375-1.656.375-1.586 0-2.586-1.266-.992-1.266-.992-3.328 0-2.063.992-3.328 1-1.266 2.586-1.266.969 0 1.656.383.696.375 1.149 1.156zm-4.899 3.055q0 1.586.649 2.492.656.898 1.797.898 1.14 0 1.796-.898.657-.906.657-2.492 0-1.586-.657-2.485-.656-.906-1.796-.906-1.141 0-1.797.906-.649.899-.649 2.485z\" /></g><g transform=\"translate(200, 1) scale(0.75, 0.75)\" fill=\"#e5e5e5\" stroke=\"#e5e5e5\"><path d=\"M26.555 9.68v.703h-6.61q.094 1.484.89 2.265.806.774 2.235.774.828 0 1.602-.203.781-.203 1.547-.61v1.36q-.774.328-1.586.5-.813.172-1.649.172-2.093 0-3.32-1.22-1.219-1.218-1.219-3.296 0-2.148 1.157-3.406 1.164-1.266 3.132-1.266 1.766 0 2.79 1.14 1.03 1.134 1.03 3.087zm-1.438-.422q-.015-1.18-.664-1.883-.64-.703-1.703-.703-1.203 0-1.93.68-.718.68-.828 1.914z\" /></g><g transform=\"translate(200, 375) scale(0.75, 0.75)\" fill=\"#e5e5e5\" stroke=\"#e5e5e5\"><path d=\"M26.555 9.68v.703h-6.61q.094 1.484.89 2.265.806.774 2.235.774.828 0 1.602-.203.781-.203 1.547-.61v1.36q-.774.328-1.586.5-.813.172-1.649.172-2.093 0-3.32-1.22-1.219-1.218-1.219-3.296 0-2.148 1.157-3.406 1.164-1.266 3.132-1.266 1.766 0 2.79 1.14 1.03 1.134 1.03 3.087zm-1.438-.422q-.015-1.18-.664-1.883-.64-.703-1.703-.703-1.203 0-1.93.68-.718.68-.828 1.914z\" /></g><g transform=\"translate(245, 1) scale(0.75, 0.75)\" fill=\"#e5e5e5\" stroke=\"#e5e5e5\"><path d=\"M25.285 2.258v1.195H23.91q-.773 0-1.078.313-.297.312-.297 1.125v.773h2.367v1.117h-2.367v7.633H21.09V6.781h-1.375V5.664h1.375v-.61q0-1.46.68-2.124.68-.672 2.156-.672z\" /></g><g transform=\"translate(245, 375) scale(0.75, 0.75)\" fill=\"#e5e5e5\" stroke=\"#e5e5e5\"><path d=\"M25.285 2.258v1.195H23.91q-.773 0-1.078.313-.297.312-.297 1.125v.773h2.367v1.117h-2.367v7.633H21.09V6.781h-1.375V5.664h1.375v-.61q0-1.46.68-2.124.68-.672 2.156-.672z\" /></g><g transform=\"translate(290, 1) scale(0.75, 0.75)\" fill=\"#e5e5e5\" stroke=\"#e5e5e5\"><path d=\"M24.973 9.937q0-1.562-.649-2.421-.64-.86-1.804-.86-1.157 0-1.805.86-.64.859-.64 2.421 0 1.555.64 2.415.648.859 1.805.859 1.164 0 1.804-.86.649-.859.649-2.414zm1.437 3.391q0 2.234-.992 3.32-.992 1.094-3.04 1.094-.757 0-1.429-.117-.672-.11-1.304-.344v-1.398q.632.344 1.25.508.617.164 1.257.164 1.414 0 2.118-.743.703-.734.703-2.226v-.711q-.446.773-1.141 1.156-.695.383-1.664.383-1.61 0-2.594-1.227-.984-1.226-.984-3.25 0-2.03.984-3.257.985-1.227 2.594-1.227.969 0 1.664.383t1.14 1.156V5.664h1.438z\" /></g><g transform=\"translate(290, 375) scale(0.75, 0.75)\" fill=\"#e5e5e5\" stroke=\"#e5e5e5\"><path d=\"M24.973 9.937q0-1.562-.649-2.421-.64-.86-1.804-.86-1.157 0-1.805.86-.64.859-.64 2.421 0 1.555.64 2.415.648.859 1.805.859 1.164 0 1.804-.86.649-.859.649-2.414zm1.437 3.391q0 2.234-.992 3.32-.992 1.094-3.04 1.094-.757 0-1.429-.117-.672-.11-1.304-.344v-1.398q.632.344 1.25.508.617.164 1.257.164 1.414 0 2.118-.743.703-.734.703-2.226v-.711q-.446.773-1.141 1.156-.695.383-1.664.383-1.61 0-2.594-1.227-.984-1.226-.984-3.25 0-2.03.984-3.257.985-1.227 2.594-1.227.969 0 1.664.383t1.14 1.156V5.664h1.438z\" /></g><g transform=\"translate(335, 1) scale(0.75, 0.75)\" fill=\"#e5e5e5\" stroke=\"#e5e5e5\"><path d=\"M26.164 9.133v5.281h-1.437V9.18q0-1.243-.485-1.86-.484-.617-1.453-.617-1.164 0-1.836.742-.672.742-.672 2.024v4.945h-1.445V2.258h1.445v4.765q.516-.789 1.211-1.18.703-.39 1.617-.39 1.508 0 2.282.938.773.93.773 2.742z\" /></g><g transform=\"translate(335, 375) scale(0.75, 0.75)\" fill=\"#e5e5e5\" stroke=\"#e5e5e5\"><path d=\"M26.164 9.133v5.281h-1.437V9.18q0-1.243-.485-1.86-.484-.617-1.453-.617-1.164 0-1.836.742-.672.742-.672 2.024v4.945h-1.445V2.258h1.445v4.765q.516-.789 1.211-1.18.703-.39 1.617-.39 1.508 0 2.282.938.773.93.773 2.742z\" /></g><g transform=\"translate(0, 335) scale(0.75, 0.75)\" fill=\"#e5e5e5\" stroke=\"#e5e5e5\"><path d=\"M6.754 26.996h2.578v-8.898l-2.805.562v-1.437l2.79-.563h1.578v10.336h2.578v1.328h-6.72z\" /></g><g transform=\"translate(375, 335) scale(0.75, 0.75)\" fill=\"#e5e5e5\" stroke=\"#e5e5e5\"><path d=\"M6.754 26.996h2.578v-8.898l-2.805.562v-1.437l2.79-.563h1.578v10.336h2.578v1.328h-6.72z\" /></g><g transform=\"translate(0, 290) scale(0.75, 0.75)\" fill=\"#e5e5e5\" stroke=\"#e5e5e5\"><path d=\"M8.195 26.996h5.508v1.328H6.297v-1.328q.898-.93 2.445-2.492 1.555-1.57 1.953-2.024.758-.851 1.055-1.437.305-.594.305-1.164 0-.93-.657-1.516-.648-.586-1.695-.586-.742 0-1.57.258-.82.258-1.758.781v-1.593q.953-.383 1.781-.578.828-.196 1.516-.196 1.812 0 2.89.906 1.079.907 1.079 2.422 0 .72-.274 1.368-.265.64-.976 1.515-.196.227-1.243 1.313-1.046 1.078-2.953 3.023z\" /></g><g transform=\"translate(375, 290) scale(0.75, 0.75)\" fill=\"#e5e5e5\" stroke=\"#e5e5e5\"><path d=\"M8.195 26.996h5.508v1.328H6.297v-1.328q.898-.93 2.445-2.492 1.555-1.57 1.953-2.024.758-.851 1.055-1.437.305-.594.305-1.164 0-.93-.657-1.516-.648-.586-1.695-.586-.742 0-1.57.258-.82.258-1.758.781v-1.593q.953-.383 1.781-.578.828-.196 1.516-.196 1.812 0 2.89.906 1.079.907 1.079 2.422 0 .72-.274 1.368-.265.64-.976 1.515-.196.227-1.243 1.313-1.046 1.078-2.953 3.023z\" /></g><g transform=\"translate(0, 245) scale(0.75, 0.75)\" fill=\"#e5e5e5\" stroke=\"#e5e5e5\"><path d=\"M11.434 22.035q1.132.242 1.765 1.008.64.766.64 1.89 0 1.727-1.187 2.672-1.187.946-3.375.946-.734 0-1.515-.149-.774-.14-1.602-.43V26.45q.656.383 1.438.578.78.196 1.632.196 1.485 0 2.258-.586.782-.586.782-1.703 0-1.032-.727-1.61-.719-.586-2.008-.586h-1.36v-1.297h1.423q1.164 0 1.78-.46.618-.47.618-1.344 0-.899-.64-1.375-.633-.485-1.82-.485-.65 0-1.391.141-.743.14-1.633.437V16.95q.898-.25 1.68-.375.788-.125 1.484-.125 1.797 0 2.844.82 1.046.813 1.046 2.204 0 .968-.554 1.64-.555.664-1.578.922z\" /></g><g transform=\"translate(375, 245) scale(0.75, 0.75)\" fill=\"#e5e5e5\" stroke=\"#e5e5e5\"><path d=\"M11.434 22.035q1.132.242 1.765 1.008.64.766.64 1.89 0 1.727-1.187 2.672-1.187.946-3.375.946-.734 0-1.515-.149-.774-.14-1.602-.43V26.45q.656.383 1.438.578.78.196 1.632.196 1.485 0 2.258-.586.782-.586.782-1.703 0-1.032-.727-1.61-.719-.586-2.008-.586h-1.36v-1.297h1.423q1.164 0 1.78-.46.618-.47.618-1.344 0-.899-.64-1.375-.633-.485-1.82-.485-.65 0-1.391.141-.743.14-1.633.437V16.95q.898-.25 1.68-.375.788-.125 1.484-.125 1.797 0 2.844.82 1.046.813 1.046 2.204 0 .968-.554 1.64-.555.664-1.578.922z\" /></g><g transform=\"translate(0, 200) scale(0.75, 0.75)\" fill=\"#e5e5e5\" stroke=\"#e5e5e5\"><path d=\"M11.016 18.035L7.03 24.262h3.985zm-.414-1.375h1.984v7.602h1.664v1.312h-1.664v2.75h-1.57v-2.75H5.75v-1.523z\" /></g><g transform=\"translate(375, 200) scale(0.75, 0.75)\" fill=\"#e5e5e5\" stroke=\"#e5e5e5\"><path d=\"M11.016 18.035L7.03 24.262h3.985zm-.414-1.375h1.984v7.602h1.664v1.312h-1.664v2.75h-1.57v-2.75H5.75v-1.523z\" /></g><g transform=\"translate(0, 155) scale(0.75, 0.75)\" fill=\"#e5e5e5\" stroke=\"#e5e5e5\"><path d=\"M6.719 16.66h6.195v1.328h-4.75v2.86q.344-.118.688-.172.343-.063.687-.063 1.953 0 3.094 1.07 1.14 1.07 1.14 2.899 0 1.883-1.171 2.93-1.172 1.039-3.305 1.039-.735 0-1.5-.125-.758-.125-1.57-.375v-1.586q.703.383 1.453.57.75.188 1.586.188 1.351 0 2.14-.711.79-.711.79-1.93 0-1.219-.79-1.93-.789-.71-2.14-.71-.633 0-1.266.14-.625.14-1.281.438z\" /></g><g transform=\"translate(375, 155) scale(0.75, 0.75)\" fill=\"#e5e5e5\" stroke=\"#e5e5e5\"><path d=\"M6.719 16.66h6.195v1.328h-4.75v2.86q.344-.118.688-.172.343-.063.687-.063 1.953 0 3.094 1.07 1.14 1.07 1.14 2.899 0 1.883-1.171 2.93-1.172 1.039-3.305 1.039-.735 0-1.5-.125-.758-.125-1.57-.375v-1.586q.703.383 1.453.57.75.188 1.586.188 1.351 0 2.14-.711.79-.711.79-1.93 0-1.219-.79-1.93-.789-.71-2.14-.71-.633 0-1.266.14-.625.14-1.281.438z\" /></g><g transform=\"translate(0, 110) scale(0.75, 0.75)\" fill=\"#e5e5e5\" stroke=\"#e5e5e5\"><path d=\"M10.137 21.863q-1.063 0-1.688.727-.617.726-.617 1.992 0 1.258.617 1.992.625.727 1.688.727 1.062 0 1.68-.727.624-.734.624-1.992 0-1.266-.625-1.992-.617-.727-1.68-.727zm3.133-4.945v1.437q-.594-.28-1.204-.43-.601-.148-1.195-.148-1.562 0-2.39 1.055-.82 1.055-.938 3.188.46-.68 1.156-1.04.696-.367 1.531-.367 1.758 0 2.774 1.07 1.023 1.063 1.023 2.899 0 1.797-1.062 2.883-1.063 1.086-2.828 1.086-2.024 0-3.094-1.547-1.07-1.555-1.07-4.5 0-2.766 1.312-4.406 1.313-1.649 3.524-1.649.593 0 1.195.117.61.118 1.266.352z\" /></g><g transform=\"translate(375, 110) scale(0.75, 0.75)\" fill=\"#e5e5e5\" stroke=\"#e5e5e5\"><path d=\"M10.137 21.863q-1.063 0-1.688.727-.617.726-.617 1.992 0 1.258.617 1.992.625.727 1.688.727 1.062 0 1.68-.727.624-.734.624-1.992 0-1.266-.625-1.992-.617-.727-1.68-.727zm3.133-4.945v1.437q-.594-.28-1.204-.43-.601-.148-1.195-.148-1.562 0-2.39 1.055-.82 1.055-.938 3.188.46-.68 1.156-1.04.696-.367 1.531-.367 1.758 0 2.774 1.07 1.023 1.063 1.023 2.899 0 1.797-1.062 2.883-1.063 1.086-2.828 1.086-2.024 0-3.094-1.547-1.07-1.555-1.07-4.5 0-2.766 1.312-4.406 1.313-1.649 3.524-1.649.593 0 1.195.117.61.118 1.266.352z\" /></g><g transform=\"translate(0, 65) scale(0.75, 0.75)\" fill=\"#e5e5e5\" stroke=\"#e5e5e5\"><path d=\"M6.25 16.66h7.5v.672L9.516 28.324H7.867l3.985-10.336H6.25z\" /></g><g transform=\"translate(375, 65) scale(0.75, 0.75)\" fill=\"#e5e5e5\" stroke=\"#e5e5e5\"><path d=\"M6.25 16.66h7.5v.672L9.516 28.324H7.867l3.985-10.336H6.25z\" /></g><g transform=\"translate(0, 20) scale(0.75, 0.75)\" fill=\"#e5e5e5\" stroke=\"#e5e5e5\"><path d=\"M10 22.785q-1.125 0-1.773.602-.641.601-.641 1.656t.64 1.656q.649.602 1.774.602t1.773-.602q.649-.61.649-1.656 0-1.055-.649-1.656-.64-.602-1.773-.602zm-1.578-.672q-1.016-.25-1.586-.945-.563-.695-.563-1.695 0-1.399.993-2.211 1-.813 2.734-.813 1.742 0 2.734.813.993.812.993 2.21 0 1-.57 1.696-.563.695-1.571.945 1.14.266 1.773 1.04.641.773.641 1.89 0 1.695-1.04 2.602-1.03.906-2.96.906t-2.969-.906Q6 26.738 6 25.043q0-1.117.64-1.89.641-.774 1.782-1.04zm-.578-2.492q0 .906.562 1.414.57.508 1.594.508 1.016 0 1.586-.508.578-.508.578-1.414 0-.906-.578-1.414-.57-.508-1.586-.508-1.023 0-1.594.508-.562.508-.562 1.414z\" /></g><g transform=\"translate(375, 20) scale(0.75, 0.75)\" fill=\"#e5e5e5\" stroke=\"#e5e5e5\"><path d=\"M10 22.785q-1.125 0-1.773.602-.641.601-.641 1.656t.64 1.656q.649.602 1.774.602t1.773-.602q.649-.61.649-1.656 0-1.055-.649-1.656-.64-.602-1.773-.602zm-1.578-.672q-1.016-.25-1.586-.945-.563-.695-.563-1.695 0-1.399.993-2.211 1-.813 2.734-.813 1.742 0 2.734.813.993.812.993 2.21 0 1-.57 1.696-.563.695-1.571.945 1.14.266 1.773 1.04.641.773.641 1.89 0 1.695-1.04 2.602-1.03.906-2.96.906t-2.969-.906Q6 26.738 6 25.043q0-1.117.64-1.89.641-.774 1.782-1.04zm-.578-2.492q0 .906.562 1.414.57.508 1.594.508 1.016 0 1.586-.508.578-.508.578-1.414 0-.906-.578-1.414-.57-.508-1.586-.508-1.023 0-1.594.508-.562.508-.562 1.414z\" /></g><rect x=\"15\" y=\"330\" width=\"45\" height=\"45\" class=\"square dark a1\" stroke=\"none\" fill=\"#d18b47\" /><rect x=\"60\" y=\"330\" width=\"45\" height=\"45\" class=\"square light b1\" stroke=\"none\" fill=\"#ffce9e\" /><rect x=\"105\" y=\"330\" width=\"45\" height=\"45\" class=\"square dark c1\" stroke=\"none\" fill=\"#d18b47\" /><rect x=\"150\" y=\"330\" width=\"45\" height=\"45\" class=\"square light d1\" stroke=\"none\" fill=\"#ffce9e\" /><rect x=\"195\" y=\"330\" width=\"45\" height=\"45\" class=\"square dark e1\" stroke=\"none\" fill=\"#d18b47\" /><rect x=\"240\" y=\"330\" width=\"45\" height=\"45\" class=\"square light f1\" stroke=\"none\" fill=\"#ffce9e\" /><rect x=\"285\" y=\"330\" width=\"45\" height=\"45\" class=\"square dark g1\" stroke=\"none\" fill=\"#d18b47\" /><rect x=\"330\" y=\"330\" width=\"45\" height=\"45\" class=\"square light h1\" stroke=\"none\" fill=\"#ffce9e\" /><rect x=\"15\" y=\"285\" width=\"45\" height=\"45\" class=\"square light a2\" stroke=\"none\" fill=\"#ffce9e\" /><rect x=\"60\" y=\"285\" width=\"45\" height=\"45\" class=\"square dark b2\" stroke=\"none\" fill=\"#d18b47\" /><rect x=\"105\" y=\"285\" width=\"45\" height=\"45\" class=\"square light c2\" stroke=\"none\" fill=\"#ffce9e\" /><rect x=\"150\" y=\"285\" width=\"45\" height=\"45\" class=\"square dark d2\" stroke=\"none\" fill=\"#d18b47\" /><rect x=\"195\" y=\"285\" width=\"45\" height=\"45\" class=\"square light e2\" stroke=\"none\" fill=\"#ffce9e\" /><rect x=\"240\" y=\"285\" width=\"45\" height=\"45\" class=\"square dark f2\" stroke=\"none\" fill=\"#d18b47\" /><rect x=\"285\" y=\"285\" width=\"45\" height=\"45\" class=\"square light g2\" stroke=\"none\" fill=\"#ffce9e\" /><rect x=\"330\" y=\"285\" width=\"45\" height=\"45\" class=\"square dark h2\" stroke=\"none\" fill=\"#d18b47\" /><rect x=\"15\" y=\"240\" width=\"45\" height=\"45\" class=\"square dark a3\" stroke=\"none\" fill=\"#d18b47\" /><rect x=\"60\" y=\"240\" width=\"45\" height=\"45\" class=\"square light b3\" stroke=\"none\" fill=\"#ffce9e\" /><rect x=\"105\" y=\"240\" width=\"45\" height=\"45\" class=\"square dark c3\" stroke=\"none\" fill=\"#d18b47\" /><rect x=\"150\" y=\"240\" width=\"45\" height=\"45\" class=\"square light d3\" stroke=\"none\" fill=\"#ffce9e\" /><rect x=\"195\" y=\"240\" width=\"45\" height=\"45\" class=\"square dark e3\" stroke=\"none\" fill=\"#d18b47\" /><rect x=\"240\" y=\"240\" width=\"45\" height=\"45\" class=\"square light f3\" stroke=\"none\" fill=\"#ffce9e\" /><rect x=\"285\" y=\"240\" width=\"45\" height=\"45\" class=\"square dark g3\" stroke=\"none\" fill=\"#d18b47\" /><rect x=\"330\" y=\"240\" width=\"45\" height=\"45\" class=\"square light h3\" stroke=\"none\" fill=\"#ffce9e\" /><rect x=\"15\" y=\"195\" width=\"45\" height=\"45\" class=\"square light a4\" stroke=\"none\" fill=\"#ffce9e\" /><rect x=\"60\" y=\"195\" width=\"45\" height=\"45\" class=\"square dark b4\" stroke=\"none\" fill=\"#d18b47\" /><rect x=\"105\" y=\"195\" width=\"45\" height=\"45\" class=\"square light c4\" stroke=\"none\" fill=\"#ffce9e\" /><rect x=\"150\" y=\"195\" width=\"45\" height=\"45\" class=\"square dark d4\" stroke=\"none\" fill=\"#d18b47\" /><rect x=\"195\" y=\"195\" width=\"45\" height=\"45\" class=\"square light e4\" stroke=\"none\" fill=\"#ffce9e\" /><rect x=\"240\" y=\"195\" width=\"45\" height=\"45\" class=\"square dark f4\" stroke=\"none\" fill=\"#d18b47\" /><rect x=\"285\" y=\"195\" width=\"45\" height=\"45\" class=\"square light g4\" stroke=\"none\" fill=\"#ffce9e\" /><rect x=\"330\" y=\"195\" width=\"45\" height=\"45\" class=\"square dark h4\" stroke=\"none\" fill=\"#d18b47\" /><rect x=\"15\" y=\"150\" width=\"45\" height=\"45\" class=\"square dark a5\" stroke=\"none\" fill=\"#d18b47\" /><rect x=\"60\" y=\"150\" width=\"45\" height=\"45\" class=\"square light b5\" stroke=\"none\" fill=\"#ffce9e\" /><rect x=\"105\" y=\"150\" width=\"45\" height=\"45\" class=\"square dark c5\" stroke=\"none\" fill=\"#d18b47\" /><rect x=\"150\" y=\"150\" width=\"45\" height=\"45\" class=\"square light d5\" stroke=\"none\" fill=\"#ffce9e\" /><rect x=\"195\" y=\"150\" width=\"45\" height=\"45\" class=\"square dark e5\" stroke=\"none\" fill=\"#d18b47\" /><rect x=\"240\" y=\"150\" width=\"45\" height=\"45\" class=\"square light f5\" stroke=\"none\" fill=\"#ffce9e\" /><rect x=\"285\" y=\"150\" width=\"45\" height=\"45\" class=\"square dark g5\" stroke=\"none\" fill=\"#d18b47\" /><rect x=\"330\" y=\"150\" width=\"45\" height=\"45\" class=\"square light h5\" stroke=\"none\" fill=\"#ffce9e\" /><rect x=\"15\" y=\"105\" width=\"45\" height=\"45\" class=\"square light a6\" stroke=\"none\" fill=\"#ffce9e\" /><rect x=\"60\" y=\"105\" width=\"45\" height=\"45\" class=\"square dark b6\" stroke=\"none\" fill=\"#d18b47\" /><rect x=\"105\" y=\"105\" width=\"45\" height=\"45\" class=\"square light c6\" stroke=\"none\" fill=\"#ffce9e\" /><rect x=\"150\" y=\"105\" width=\"45\" height=\"45\" class=\"square dark d6\" stroke=\"none\" fill=\"#d18b47\" /><rect x=\"195\" y=\"105\" width=\"45\" height=\"45\" class=\"square light e6\" stroke=\"none\" fill=\"#ffce9e\" /><rect x=\"240\" y=\"105\" width=\"45\" height=\"45\" class=\"square dark f6\" stroke=\"none\" fill=\"#d18b47\" /><rect x=\"285\" y=\"105\" width=\"45\" height=\"45\" class=\"square light g6\" stroke=\"none\" fill=\"#ffce9e\" /><rect x=\"330\" y=\"105\" width=\"45\" height=\"45\" class=\"square dark h6\" stroke=\"none\" fill=\"#d18b47\" /><rect x=\"15\" y=\"60\" width=\"45\" height=\"45\" class=\"square dark a7\" stroke=\"none\" fill=\"#d18b47\" /><rect x=\"60\" y=\"60\" width=\"45\" height=\"45\" class=\"square light b7\" stroke=\"none\" fill=\"#ffce9e\" /><rect x=\"105\" y=\"60\" width=\"45\" height=\"45\" class=\"square dark c7\" stroke=\"none\" fill=\"#d18b47\" /><rect x=\"150\" y=\"60\" width=\"45\" height=\"45\" class=\"square light d7\" stroke=\"none\" fill=\"#ffce9e\" /><rect x=\"195\" y=\"60\" width=\"45\" height=\"45\" class=\"square dark e7\" stroke=\"none\" fill=\"#d18b47\" /><rect x=\"240\" y=\"60\" width=\"45\" height=\"45\" class=\"square light f7\" stroke=\"none\" fill=\"#ffce9e\" /><rect x=\"285\" y=\"60\" width=\"45\" height=\"45\" class=\"square dark g7\" stroke=\"none\" fill=\"#d18b47\" /><rect x=\"330\" y=\"60\" width=\"45\" height=\"45\" class=\"square light h7\" stroke=\"none\" fill=\"#ffce9e\" /><rect x=\"15\" y=\"15\" width=\"45\" height=\"45\" class=\"square light a8\" stroke=\"none\" fill=\"#ffce9e\" /><rect x=\"60\" y=\"15\" width=\"45\" height=\"45\" class=\"square dark b8\" stroke=\"none\" fill=\"#d18b47\" /><rect x=\"105\" y=\"15\" width=\"45\" height=\"45\" class=\"square light c8\" stroke=\"none\" fill=\"#ffce9e\" /><rect x=\"150\" y=\"15\" width=\"45\" height=\"45\" class=\"square dark d8\" stroke=\"none\" fill=\"#d18b47\" /><rect x=\"195\" y=\"15\" width=\"45\" height=\"45\" class=\"square light e8\" stroke=\"none\" fill=\"#ffce9e\" /><rect x=\"240\" y=\"15\" width=\"45\" height=\"45\" class=\"square dark f8\" stroke=\"none\" fill=\"#d18b47\" /><rect x=\"285\" y=\"15\" width=\"45\" height=\"45\" class=\"square light g8\" stroke=\"none\" fill=\"#ffce9e\" /><rect x=\"330\" y=\"15\" width=\"45\" height=\"45\" class=\"square dark h8\" stroke=\"none\" fill=\"#d18b47\" /><use href=\"#white-rook\" xlink:href=\"#white-rook\" transform=\"translate(15, 330)\" /><use href=\"#white-knight\" xlink:href=\"#white-knight\" transform=\"translate(60, 330)\" /><use href=\"#white-bishop\" xlink:href=\"#white-bishop\" transform=\"translate(105, 330)\" /><use href=\"#white-queen\" xlink:href=\"#white-queen\" transform=\"translate(150, 330)\" /><use href=\"#white-king\" xlink:href=\"#white-king\" transform=\"translate(195, 330)\" /><use href=\"#white-bishop\" xlink:href=\"#white-bishop\" transform=\"translate(240, 330)\" /><use href=\"#white-knight\" xlink:href=\"#white-knight\" transform=\"translate(285, 330)\" /><use href=\"#white-rook\" xlink:href=\"#white-rook\" transform=\"translate(330, 330)\" /><use href=\"#white-pawn\" xlink:href=\"#white-pawn\" transform=\"translate(15, 285)\" /><use href=\"#white-pawn\" xlink:href=\"#white-pawn\" transform=\"translate(60, 285)\" /><use href=\"#white-pawn\" xlink:href=\"#white-pawn\" transform=\"translate(105, 285)\" /><use href=\"#white-pawn\" xlink:href=\"#white-pawn\" transform=\"translate(150, 285)\" /><use href=\"#white-pawn\" xlink:href=\"#white-pawn\" transform=\"translate(195, 285)\" /><use href=\"#white-pawn\" xlink:href=\"#white-pawn\" transform=\"translate(240, 285)\" /><use href=\"#white-pawn\" xlink:href=\"#white-pawn\" transform=\"translate(285, 285)\" /><use href=\"#white-pawn\" xlink:href=\"#white-pawn\" transform=\"translate(330, 285)\" /><use href=\"#black-pawn\" xlink:href=\"#black-pawn\" transform=\"translate(15, 60)\" /><use href=\"#black-pawn\" xlink:href=\"#black-pawn\" transform=\"translate(60, 60)\" /><use href=\"#black-pawn\" xlink:href=\"#black-pawn\" transform=\"translate(105, 60)\" /><use href=\"#black-pawn\" xlink:href=\"#black-pawn\" transform=\"translate(150, 60)\" /><use href=\"#black-pawn\" xlink:href=\"#black-pawn\" transform=\"translate(195, 60)\" /><use href=\"#black-pawn\" xlink:href=\"#black-pawn\" transform=\"translate(240, 60)\" /><use href=\"#black-pawn\" xlink:href=\"#black-pawn\" transform=\"translate(285, 60)\" /><use href=\"#black-pawn\" xlink:href=\"#black-pawn\" transform=\"translate(330, 60)\" /><use href=\"#black-rook\" xlink:href=\"#black-rook\" transform=\"translate(15, 15)\" /><use href=\"#black-knight\" xlink:href=\"#black-knight\" transform=\"translate(60, 15)\" /><use href=\"#black-bishop\" xlink:href=\"#black-bishop\" transform=\"translate(105, 15)\" /><use href=\"#black-queen\" xlink:href=\"#black-queen\" transform=\"translate(150, 15)\" /><use href=\"#black-king\" xlink:href=\"#black-king\" transform=\"translate(195, 15)\" /><use href=\"#black-bishop\" xlink:href=\"#black-bishop\" transform=\"translate(240, 15)\" /><use href=\"#black-knight\" xlink:href=\"#black-knight\" transform=\"translate(285, 15)\" /><use href=\"#black-rook\" xlink:href=\"#black-rook\" transform=\"translate(330, 15)\" /></svg>"
     },
     "execution_count": 49,
     "metadata": {},
     "output_type": "execute_result"
    }
   ],
   "execution_count": 49
  },
  {
   "metadata": {
    "ExecuteTime": {
     "end_time": "2024-10-07T13:34:44.497045Z",
     "start_time": "2024-10-07T13:34:33.878294Z"
    }
   },
   "cell_type": "code",
   "source": "headers=pd.read_csv(\"../data/unclean/header.csv\",low_memory=False)",
   "id": "9d55c21967b6d78c",
   "outputs": [],
   "execution_count": 51
  },
  {
   "metadata": {
    "ExecuteTime": {
     "end_time": "2024-10-07T13:35:06.242746Z",
     "start_time": "2024-10-07T13:35:06.052499Z"
    }
   },
   "cell_type": "code",
   "source": "headers[\"Termination\"].unique()",
   "id": "176497bda8ea3b50",
   "outputs": [
    {
     "data": {
      "text/plain": [
       "array(['Normal', 'Time forfeit', 'Abandoned', 'Rules infraction'],\n",
       "      dtype=object)"
      ]
     },
     "execution_count": 52,
     "metadata": {},
     "output_type": "execute_result"
    }
   ],
   "execution_count": 52
  },
  {
   "metadata": {
    "ExecuteTime": {
     "end_time": "2024-10-07T13:41:03.314651Z",
     "start_time": "2024-10-07T13:41:02.359871Z"
    }
   },
   "cell_type": "code",
   "source": "headers.query(\"~Termination.isin(['Abandoned','Rules infraction'])\").shape",
   "id": "fd998175f577b8ed",
   "outputs": [
    {
     "data": {
      "text/plain": [
       "(3817899, 20)"
      ]
     },
     "execution_count": 56,
     "metadata": {},
     "output_type": "execute_result"
    }
   ],
   "execution_count": 56
  },
  {
   "metadata": {},
   "cell_type": "markdown",
   "source": "# Train, Valid & Test",
   "id": "47fb455d4a8a6379"
  },
  {
   "metadata": {
    "ExecuteTime": {
     "end_time": "2024-10-07T18:54:28.984768Z",
     "start_time": "2024-10-07T18:54:28.981938Z"
    }
   },
   "cell_type": "code",
   "source": "np.random.seed(42)",
   "id": "641b7d7a3eadcadf",
   "outputs": [],
   "execution_count": 66
  },
  {
   "metadata": {
    "ExecuteTime": {
     "end_time": "2024-10-07T21:12:06.323508Z",
     "start_time": "2024-10-07T21:12:06.317361Z"
    }
   },
   "cell_type": "code",
   "source": "games_tensor=np.memmap(\"../data/cleaned/games_tensor.dat\",dtype='float64',mode='r',shape=(300000,64,64))",
   "id": "6013edc3f7743e84",
   "outputs": [],
   "execution_count": 77
  },
  {
   "metadata": {
    "ExecuteTime": {
     "end_time": "2024-10-07T21:12:09.919706Z",
     "start_time": "2024-10-07T21:12:09.914695Z"
    }
   },
   "cell_type": "code",
   "source": "games_tensor.shape",
   "id": "3963f8c638b4902",
   "outputs": [
    {
     "data": {
      "text/plain": [
       "(300000, 64, 64)"
      ]
     },
     "execution_count": 78,
     "metadata": {},
     "output_type": "execute_result"
    }
   ],
   "execution_count": 78
  },
  {
   "metadata": {
    "ExecuteTime": {
     "end_time": "2024-10-07T18:33:52.945983Z",
     "start_time": "2024-10-07T18:33:52.941537Z"
    }
   },
   "cell_type": "code",
   "source": "target=np.load(\"../data/cleaned/target.npy\")",
   "id": "90c8c93ff12b3511",
   "outputs": [],
   "execution_count": 30
  },
  {
   "metadata": {
    "ExecuteTime": {
     "end_time": "2024-10-07T18:33:53.852348Z",
     "start_time": "2024-10-07T18:33:53.845304Z"
    }
   },
   "cell_type": "code",
   "source": "target.shape",
   "id": "6510358316f5b038",
   "outputs": [
    {
     "data": {
      "text/plain": [
       "(300000,)"
      ]
     },
     "execution_count": 31,
     "metadata": {},
     "output_type": "execute_result"
    }
   ],
   "execution_count": 31
  },
  {
   "metadata": {
    "ExecuteTime": {
     "end_time": "2024-10-07T18:54:32.650079Z",
     "start_time": "2024-10-07T18:54:32.645964Z"
    }
   },
   "cell_type": "code",
   "source": "indexes=np.arange(300000)",
   "id": "9efffe98e05d2eb",
   "outputs": [],
   "execution_count": 67
  },
  {
   "metadata": {
    "ExecuteTime": {
     "end_time": "2024-10-07T18:54:34.154038Z",
     "start_time": "2024-10-07T18:54:34.144570Z"
    }
   },
   "cell_type": "code",
   "source": "np.random.shuffle(indexes)",
   "id": "f32c11ff902fc759",
   "outputs": [],
   "execution_count": 68
  },
  {
   "metadata": {
    "ExecuteTime": {
     "end_time": "2024-10-07T18:54:36.420937Z",
     "start_time": "2024-10-07T18:54:36.416529Z"
    }
   },
   "cell_type": "code",
   "source": "indexes",
   "id": "23ce683d395e7f89",
   "outputs": [
    {
     "data": {
      "text/plain": [
       "array([  4941,  51775, 115253, ..., 131932, 146867, 121958])"
      ]
     },
     "execution_count": 69,
     "metadata": {},
     "output_type": "execute_result"
    }
   ],
   "execution_count": 69
  },
  {
   "metadata": {
    "ExecuteTime": {
     "end_time": "2024-10-07T21:33:01.464152Z",
     "start_time": "2024-10-07T21:33:01.455075Z"
    }
   },
   "cell_type": "code",
   "source": [
    "def split_data(random_seed=42):\n",
    "    np.random.seed(random_seed)\n",
    "    games_tensor=np.memmap(\"../data/cleaned/games_tensor.dat\",dtype='float64',mode='r',shape=(300000,64,64))\n",
    "    target=np.load(\"../data/cleaned/target.npy\")\n",
    "    \n",
    "    indexes=np.arange(games_tensor.shape[0])\n",
    "    np.random.shuffle(indexes)\n",
    "    \n",
    "    train_index= indexes[:int(games_tensor.shape[0]*0.8)]\n",
    "    temp_indexes=indexes[int(games_tensor.shape[0]*0.8):]\n",
    "    val_index=temp_indexes[:temp_indexes.shape[0]//2]\n",
    "    test_index=temp_indexes[temp_indexes.shape[0]//2:]\n",
    "    \n",
    "    train_games_tensor=np.memmap(\"../data/cleaned/train_games_tensor.dat\",dtype='float64',mode='w+',shape=(train_index.shape[0],64,64))\n",
    "    train_target=np.zeros(shape=(train_index.shape[0]))\n",
    "    \n",
    "    for index in range(train_games_tensor.shape[0]):\n",
    "        train_games_tensor[index]= games_tensor[ train_index[index] ]\n",
    "        train_target[index] = target[ train_index[index] ]\n",
    "    \n",
    "    train_games_tensor.flush()\n",
    "    np.save(\"../data/cleaned/train_target.npy\",train_target)\n",
    "    \n",
    "    \n",
    "    val_games_tensor=np.memmap(\"../data/cleaned/val_games_tensor.dat\",dtype='float64',mode='w+',shape=(val_index.shape[0],64,64))\n",
    "    val_target=np.zeros(shape=(val_index.shape[0]))\n",
    "    \n",
    "    for index in range(val_games_tensor.shape[0]):\n",
    "        val_games_tensor[index]= games_tensor[ val_index[index] ]\n",
    "        val_target[index] = target[ val_index[index] ]\n",
    "    \n",
    "    train_games_tensor.flush()\n",
    "    np.save(\"../data/cleaned/val_target.npy\",val_target)\n",
    "    \n",
    "    \n",
    "    test_games_tensor=np.memmap(\"../data/cleaned/test_games_tensor.dat\",dtype='float64',mode='w+',shape=(test_index.shape[0],64,64))\n",
    "    test_target=np.zeros(shape=(test_index.shape[0]))\n",
    "    \n",
    "    for index in range(val_games_tensor.shape[0]):\n",
    "        test_games_tensor[index]= games_tensor[ test_index[index] ]\n",
    "        test_target[index] = target[ test_index[index] ]\n",
    "    \n",
    "    train_games_tensor.flush()\n",
    "    np.save(\"../data/cleaned/test_target.npy\",val_target)   \n",
    "    \n",
    "    with open(\"../data/cleaned/dataset_info.txt\",\"w\") as f:\n",
    "        text=f\"train shape {(train_index.shape[0],64,64)}\"\n",
    "        text+=f\"\\n val shape {(val_index.shape[0],64,64)}\"\n",
    "        text+=f\"\\n test shape {(test_index.shape[0],64,64)}\"\n",
    "        \n",
    "        f.write(text)\n",
    "        print(text)\n",
    "    \n",
    "    \n",
    "    \n",
    "    \n",
    "    \n",
    "    "
   ],
   "id": "82d411f8c691a938",
   "outputs": [],
   "execution_count": 83
  },
  {
   "metadata": {
    "ExecuteTime": {
     "end_time": "2024-10-07T21:39:11.498928Z",
     "start_time": "2024-10-07T21:33:04.981541Z"
    }
   },
   "cell_type": "code",
   "source": "split_data()",
   "id": "d8299d4edb4ecebd",
   "outputs": [
    {
     "name": "stdout",
     "output_type": "stream",
     "text": [
      "train shape (240000, 64, 64)\n",
      " val shape (30000, 64, 64)\n",
      " test shape (30000, 64, 64)\n"
     ]
    }
   ],
   "execution_count": 84
  },
  {
   "metadata": {
    "ExecuteTime": {
     "end_time": "2024-10-07T21:23:19.642025Z",
     "start_time": "2024-10-07T21:23:19.635868Z"
    }
   },
   "cell_type": "code",
   "source": "train_games_tensor=np.memmap(\"../data/cleaned/train_games_tensor.dat\",dtype='float64',mode='r',shape=(30000*8,64,64))",
   "id": "c2dc3a74d7539828",
   "outputs": [],
   "execution_count": 81
  },
  {
   "metadata": {
    "ExecuteTime": {
     "end_time": "2024-10-07T21:23:28.982360Z",
     "start_time": "2024-10-07T21:23:28.976393Z"
    }
   },
   "cell_type": "code",
   "source": "train_games_tensor[0]",
   "id": "91c109c0218d0ac4",
   "outputs": [
    {
     "data": {
      "text/plain": [
       "memmap([[-1., -1., -1., ...,  1.,  1.,  1.],\n",
       "        [-1., -1., -1., ...,  1.,  1.,  1.],\n",
       "        [-1., -1., -1., ...,  1.,  0.,  1.],\n",
       "        ...,\n",
       "        [ 0.,  0.,  0., ...,  0.,  0.,  0.],\n",
       "        [ 0.,  0.,  0., ...,  0.,  0.,  0.],\n",
       "        [-1.,  0.,  0., ...,  0.,  0.,  0.]])"
      ]
     },
     "execution_count": 82,
     "metadata": {},
     "output_type": "execute_result"
    }
   ],
   "execution_count": 82
  }
 ],
 "metadata": {
  "kernelspec": {
   "display_name": "Python 3",
   "language": "python",
   "name": "python3"
  },
  "language_info": {
   "codemirror_mode": {
    "name": "ipython",
    "version": 2
   },
   "file_extension": ".py",
   "mimetype": "text/x-python",
   "name": "python",
   "nbconvert_exporter": "python",
   "pygments_lexer": "ipython2",
   "version": "2.7.6"
  }
 },
 "nbformat": 4,
 "nbformat_minor": 5
}
